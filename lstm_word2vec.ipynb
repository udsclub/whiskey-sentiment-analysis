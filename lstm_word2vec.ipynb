{
 "cells": [
  {
   "cell_type": "markdown",
   "metadata": {
    "deletable": true,
    "editable": true
   },
   "source": [
    "# LSTM + word2vec\n",
    "\n",
    "#### Preprosessing\n",
    "\n",
    "nltk preprocessing, keras default tokenizer (remove stopwords, numbers, punctuation)\n",
    "\n",
    "#### Model\n",
    "\n",
    "LSTM base - one layer (100 - hidden units, without dropouts) \n",
    "* 1) word2vec train own texts\n",
    "* 2) pretrained word2vec"
   ]
  },
  {
   "cell_type": "markdown",
   "metadata": {
    "deletable": true,
    "editable": true
   },
   "source": [
    "---"
   ]
  },
  {
   "cell_type": "code",
   "execution_count": 69,
   "metadata": {
    "collapsed": true,
    "deletable": true,
    "editable": true
   },
   "outputs": [],
   "source": [
    "MODEL_NAME = \"imdb_lstm_word2vec\"\n",
    "TRAIN_DATASET = \"train_imdb.csv\"\n",
    "TEST_DATASET = \"test_imdb.csv\"\n",
    "\n",
    "TOKENIZER_NAME = \"lstm_imdb_tokenizer\""
   ]
  },
  {
   "cell_type": "markdown",
   "metadata": {
    "deletable": true,
    "editable": true
   },
   "source": [
    "---"
   ]
  },
  {
   "cell_type": "code",
   "execution_count": 70,
   "metadata": {
    "collapsed": false,
    "deletable": true,
    "editable": true
   },
   "outputs": [],
   "source": [
    "import nltk\n",
    "import numpy\n",
    "import pickle\n",
    "numpy.random.seed(42)\n",
    "\n",
    "from nltk.corpus import stopwords\n",
    "import pandas as pd\n",
    "import numpy as np\n",
    "from itertools import chain\n",
    "from collections import Counter\n",
    "\n",
    "\n",
    "from keras.preprocessing.text import Tokenizer\n",
    "from keras.preprocessing.sequence import pad_sequences\n",
    "from keras.utils.np_utils import to_categorical"
   ]
  },
  {
   "cell_type": "markdown",
   "metadata": {
    "deletable": true,
    "editable": true
   },
   "source": [
    "Swith on full text mode)"
   ]
  },
  {
   "cell_type": "code",
   "execution_count": 71,
   "metadata": {
    "collapsed": false,
    "deletable": true,
    "editable": true
   },
   "outputs": [],
   "source": [
    "pd.options.display.max_colwidth = -1"
   ]
  },
  {
   "cell_type": "markdown",
   "metadata": {
    "deletable": true,
    "editable": true
   },
   "source": [
    "## Load data"
   ]
  },
  {
   "cell_type": "code",
   "execution_count": 72,
   "metadata": {
    "collapsed": false,
    "deletable": true,
    "editable": true
   },
   "outputs": [],
   "source": [
    "train_data = pd.read_csv(TRAIN_DATASET, sep=\"|\")"
   ]
  },
  {
   "cell_type": "code",
   "execution_count": 73,
   "metadata": {
    "collapsed": true,
    "deletable": true,
    "editable": true
   },
   "outputs": [],
   "source": [
    "test_data = pd.read_csv(TEST_DATASET, sep=\"|\")"
   ]
  },
  {
   "cell_type": "markdown",
   "metadata": {
    "deletable": true,
    "editable": true
   },
   "source": [
    "---"
   ]
  },
  {
   "cell_type": "markdown",
   "metadata": {
    "deletable": true,
    "editable": true
   },
   "source": [
    "## Preprocessing"
   ]
  },
  {
   "cell_type": "code",
   "execution_count": 74,
   "metadata": {
    "collapsed": true,
    "deletable": true,
    "editable": true
   },
   "outputs": [],
   "source": [
    "MAX_NB_WORDS = 20000\n",
    "MAX_SEQUENCE_LENGTH = 50"
   ]
  },
  {
   "cell_type": "markdown",
   "metadata": {
    "deletable": true,
    "editable": true
   },
   "source": [
    "---"
   ]
  },
  {
   "cell_type": "markdown",
   "metadata": {
    "deletable": true,
    "editable": true
   },
   "source": [
    "Remove stopwords, numbers, punctuation"
   ]
  },
  {
   "cell_type": "code",
   "execution_count": 75,
   "metadata": {
    "collapsed": false,
    "deletable": true,
    "editable": true
   },
   "outputs": [],
   "source": [
    "stops = set(stopwords.words('english'))\n",
    "\n",
    "def preprocess(text):\n",
    "    return ' '.join(list(filter(lambda x: x.isalnum(), nltk.word_tokenize(str(text.lower())))))"
   ]
  },
  {
   "cell_type": "code",
   "execution_count": 76,
   "metadata": {
    "collapsed": true,
    "deletable": true,
    "editable": true
   },
   "outputs": [],
   "source": [
    "train_data['prep_text'] = train_data['text'].map(preprocess)\n",
    "test_data['prep_text'] = test_data['text'].map(preprocess)"
   ]
  },
  {
   "cell_type": "code",
   "execution_count": 77,
   "metadata": {
    "collapsed": false,
    "deletable": true,
    "editable": true,
    "scrolled": false
   },
   "outputs": [
    {
     "data": {
      "text/html": [
       "<div>\n",
       "<table border=\"1\" class=\"dataframe\">\n",
       "  <thead>\n",
       "    <tr style=\"text-align: right;\">\n",
       "      <th></th>\n",
       "      <th>Unnamed: 0</th>\n",
       "      <th>label</th>\n",
       "      <th>text</th>\n",
       "      <th>prep_text</th>\n",
       "    </tr>\n",
       "  </thead>\n",
       "  <tbody>\n",
       "    <tr>\n",
       "      <th>0</th>\n",
       "      <td>48903</td>\n",
       "      <td>1</td>\n",
       "      <td>Although this movie has some weaknesses, it is worth seeing. I chose it because of the cast, and applaud Bonham Carter and Branagh for choosing roles different from those they have taken in the past. Both portray very troubled people, complete with warts, but make them likeable because of their humanity. The story is touching, but it is the performances that soar. Bonham Carter's \"Jane\" is a remarkable achievement, whose quest for romance opened my eyes to aspects of being disabled that I had not thought of before, but was interesting as well for other reasons. I felt the movie ended too abruptly, but better that than a drawn out emotionally manipulative ending (see \"Stepmom.\") The very real English setting added to my enjoyment - it was England in the 90's, both urban and rural, without being depressing.</td>\n",
       "      <td>although this movie has some weaknesses it is worth seeing i chose it because of the cast and applaud bonham carter and branagh for choosing roles different from those they have taken in the past both portray very troubled people complete with warts but make them likeable because of their humanity the story is touching but it is the performances that soar bonham carter jane is a remarkable achievement whose quest for romance opened my eyes to aspects of being disabled that i had not thought of before but was interesting as well for other reasons i felt the movie ended too abruptly but better that than a drawn out emotionally manipulative ending see stepmom the very real english setting added to my enjoyment it was england in the 90 both urban and rural without being depressing</td>\n",
       "    </tr>\n",
       "    <tr>\n",
       "      <th>1</th>\n",
       "      <td>10174</td>\n",
       "      <td>0</td>\n",
       "      <td>I hate to comment on something I didn't finish, but if I spare one person what I sat through for almost an hour before turning it off in disgust, it will be worth it. &lt;br /&gt;&lt;br /&gt;I decided to watch this with an open mind, knowing it was on the bottom 100.&lt;br /&gt;&lt;br /&gt;Bad idea. I usually love crude humor, or can at least tolerate it. I love so-called \"black\" comedies. I'm not easily offended, either. &lt;br /&gt;&lt;br /&gt;It started off okay and quickly went downhill. I laughed a few times (for example, when the main character got stuck in the airplane toilet), but that was it and didn't compensate for the strong disgust I felt.&lt;br /&gt;&lt;br /&gt;I didn't laugh when the dog got sucked into a jet engine. I usually can't see the humor in animals dying (except in Animal House). I didn't laugh at much else of the nastiness, either. I turned it off after an incident involving a blind man and a baked potato that I don't care to repeat the details of, only that the wave of nausea still hasn't passed over me. &lt;br /&gt;&lt;br /&gt;Simply put, it was smut-filled and simply not funny with barely any plot. This is one of the times when if you don't have something nice to say, you should get the word out.&lt;br /&gt;&lt;br /&gt;Don't say I didn't warn you.</td>\n",
       "      <td>i hate to comment on something i did finish but if i spare one person what i sat through for almost an hour before turning it off in disgust it will be worth it br br i decided to watch this with an open mind knowing it was on the bottom br br bad idea i usually love crude humor or can at least tolerate it i love black comedies i not easily offended either br br it started off okay and quickly went downhill i laughed a few times for example when the main character got stuck in the airplane toilet but that was it and did compensate for the strong disgust i br br i did laugh when the dog got sucked into a jet engine i usually ca see the humor in animals dying except in animal house i did laugh at much else of the nastiness either i turned it off after an incident involving a blind man and a baked potato that i do care to repeat the details of only that the wave of nausea still has passed over me br br simply put it was and simply not funny with barely any plot this is one of the times when if you do have something nice to say you should get the word br br do say i did warn you</td>\n",
       "    </tr>\n",
       "    <tr>\n",
       "      <th>2</th>\n",
       "      <td>34019</td>\n",
       "      <td>0</td>\n",
       "      <td>The movie is steeped in religion, so it is impossible to separate it from religion in commenting upon it. In my opinion, this movie pretends to explore deep issues, but thrives on stereotypes and prejudices; with little true insight. What the people in the movie (and therefore, the writer) failed to see was grace. They failed to understand that God is the author of beauty and He is the Creator of passion and sexual gratification in the proper context of marriage bonds. To imply that the people of the society in which the story is based believe that nudity is sinful, and both the man &amp; the woman enjoying the act of marriage is dirty, is just an oversimplification. Such stereotypes really don't exist, for even Jewish holy writings speak clearly of the caring husband who will seek his wife's pleasure before his own. Scripture says that a man ought to love his wife as his own flesh, and that no man ever hated his own flesh, but he nourishes and cherishes it. Even if you want to ignore the New Testament, the writers &amp; characters completely ignore that there are passages such as the Song of Solomon in the Old Testament, and the even the book of Proverbs which says, \"Rejoice in the wife of thy youth, let her breasts satisfy you always\"! How can that be read in any way other way than that God knows, and approves of, and smiles on, the marital union and the enjoyment thereof? Real men don't ignore the value and needs of their wives. Those that do deny a very basic teaching of the Judeo/Christian religion. God NEVER said those things. It's absurd. Sonia rebelled because of the misapplication of the teachings of the true God of Abraham. It didn't need to be so. How sad. What Sonia desperately needed was TRUTH, not tradition. In knowing, loving and obeying God, we love others more; before ourselves. That is the faith of the God of Abraham, Isaac, Jacob &amp; Joseph; once for all delivered to the Saints; bought &amp; paid for by Jesus Christ, the Righteous. But alright, ignore all this and abandon ancient, holy Scripture and turn to the wisdom of homeless people &amp; ghosts. That's a good plan. I would never recommend this movie; partly because the sexual content is unnecessarily graphic, but also because it really doesn't offer any valuable insight. Check out \"Yentl\" if you want to see a much more useful treatment of Jewish tradition at odds with society.</td>\n",
       "      <td>the movie is steeped in religion so it is impossible to separate it from religion in commenting upon it in my opinion this movie pretends to explore deep issues but thrives on stereotypes and prejudices with little true insight what the people in the movie and therefore the writer failed to see was grace they failed to understand that god is the author of beauty and he is the creator of passion and sexual gratification in the proper context of marriage bonds to imply that the people of the society in which the story is based believe that nudity is sinful and both the man the woman enjoying the act of marriage is dirty is just an oversimplification such stereotypes really do exist for even jewish holy writings speak clearly of the caring husband who will seek his wife pleasure before his own scripture says that a man ought to love his wife as his own flesh and that no man ever hated his own flesh but he nourishes and cherishes it even if you want to ignore the new testament the writers characters completely ignore that there are passages such as the song of solomon in the old testament and the even the book of proverbs which says rejoice in the wife of thy youth let her breasts satisfy you always how can that be read in any way other way than that god knows and approves of and smiles on the marital union and the enjoyment thereof real men do ignore the value and needs of their wives those that do deny a very basic teaching of the religion god never said those things it absurd sonia rebelled because of the misapplication of the teachings of the true god of abraham it did need to be so how sad what sonia desperately needed was truth not tradition in knowing loving and obeying god we love others more before ourselves that is the faith of the god of abraham isaac jacob joseph once for all delivered to the saints bought paid for by jesus christ the righteous but alright ignore all this and abandon ancient holy scripture and turn to the wisdom of homeless people ghosts that a good plan i would never recommend this movie partly because the sexual content is unnecessarily graphic but also because it really does offer any valuable insight check out yentl if you want to see a much more useful treatment of jewish tradition at odds with society</td>\n",
       "    </tr>\n",
       "    <tr>\n",
       "      <th>3</th>\n",
       "      <td>9815</td>\n",
       "      <td>0</td>\n",
       "      <td>I picked out this DVD out of the cheepo bin at Walmart because the cover showed one of the planes I flew during Viet-Nam (C-123k). I did not fly for Air America, but knew being a C-123 pilot, I knew a lot who did, including those who flew in my Reserve Unit back home. I am not a movie critic, but wonder about the subliminal motivation of Directors and Writers who make movies like this. The best part of this movie has to go to the cameraman. The flying shots and stunts (although totally cartoon like) are excellent. The movie begins with Hollywood's favorite fall guy in 1969. But the fact is, Nixon did not start Air America, he did not begin the lies. Johnson was responsible for Air America and Nixon inherited the lies, the war, and Air America. Its not fair or accurate to portray Nixon as a liar on the subject of Air America. All President's have inherited the lies of their predecessors. Nobody smart enough to fly a C-123 was dumb enough to not know what they were joining. That makes the Downey character unbelievable. A C-123 was a rugged airplane. It could easily fly on one engine, or the two auxiliary jet engines. The three stooges shooting a duck with one shot is more likely. Pilots who flew with Air America were civilian employees of the CIA, they were not reckless soldiers of fortune. They had a good reason to behave and believe in a future, if they survived their extremely dangerous job. They were given double time towards a retirement pension. They weren't required to sell dope or guns to get a good pension. Dope was legal and a way of life in SEA, as it still is today in Afganistan. If individual pilots tried to make money on the side, it was not CIA policy. The CIA was fighting a war on communism, not drugs. The writer based his story on \"war stories\". Pilots love to BS anybody who will buy them a beer and listen. The writer and Director who had an ax to grind about Viet-Nam and Nixon. See the movie, and remember how it starts - it blames Nixon for what existed for years. Remember, he didn't become President until Jan 20, 1969.&lt;br /&gt;&lt;br /&gt;My favorite scene is the landing up hill in the jungle. Air America pilots put planes in places the aircraft designers never thought possible. Their were plenty of funny stories that could have been shown. Instead, the Director chose to use the oversize rubber scene to show how dumb the CIA was. This scene shows that the Director and writer fell for some pilot bar talk and the joke is on them. &lt;br /&gt;&lt;br /&gt;MDS Fort Valley Virginia.</td>\n",
       "      <td>i picked out this dvd out of the cheepo bin at walmart because the cover showed one of the planes i flew during i did not fly for air america but knew being a pilot i knew a lot who did including those who flew in my reserve unit back home i am not a movie critic but wonder about the subliminal motivation of directors and writers who make movies like this the best part of this movie has to go to the cameraman the flying shots and stunts although totally cartoon like are excellent the movie begins with hollywood favorite fall guy in but the fact is nixon did not start air america he did not begin the lies johnson was responsible for air america and nixon inherited the lies the war and air america its not fair or accurate to portray nixon as a liar on the subject of air america all president have inherited the lies of their predecessors nobody smart enough to fly a was dumb enough to not know what they were joining that makes the downey character unbelievable a was a rugged airplane it could easily fly on one engine or the two auxiliary jet engines the three stooges shooting a duck with one shot is more likely pilots who flew with air america were civilian employees of the cia they were not reckless soldiers of fortune they had a good reason to behave and believe in a future if they survived their extremely dangerous job they were given double time towards a retirement pension they were required to sell dope or guns to get a good pension dope was legal and a way of life in sea as it still is today in afganistan if individual pilots tried to make money on the side it was not cia policy the cia was fighting a war on communism not drugs the writer based his story on war stories pilots love to bs anybody who will buy them a beer and listen the writer and director who had an ax to grind about and nixon see the movie and remember how it starts it blames nixon for what existed for years remember he did become president until jan 20 br br my favorite scene is the landing up hill in the jungle air america pilots put planes in places the aircraft designers never thought possible their were plenty of funny stories that could have been shown instead the director chose to use the oversize rubber scene to show how dumb the cia was this scene shows that the director and writer fell for some pilot bar talk and the joke is on them br br mds fort valley virginia</td>\n",
       "    </tr>\n",
       "    <tr>\n",
       "      <th>4</th>\n",
       "      <td>6895</td>\n",
       "      <td>0</td>\n",
       "      <td>Jack Brooks (Trevor Matthews) is a college student with some severe anger issues. His family was brutally murdered when he was a child by a monster, and now he takes out his anger on everything and everyone.&lt;br /&gt;&lt;br /&gt;So when his professor (Robert Englund) begins to show signs of monsterism, he learns he has to control his rage and use it for good instead of evil, and fight the creatures that have been haunting his nightmares ever since that fateful night.&lt;br /&gt;&lt;br /&gt;Truly earns its B-rated rating, but what was cool about it was that it didn't focus on crappy B-rated CGI graphics. In fact, 0% of the film was CGI. The monsters were actually decently put together, and although the storyline was lacking, it was somewhat watchable...if for only one time.</td>\n",
       "      <td>jack brooks trevor matthews is a college student with some severe anger issues his family was brutally murdered when he was a child by a monster and now he takes out his anger on everything and br br so when his professor robert englund begins to show signs of monsterism he learns he has to control his rage and use it for good instead of evil and fight the creatures that have been haunting his nightmares ever since that fateful br br truly earns its rating but what was cool about it was that it did focus on crappy cgi graphics in fact 0 of the film was cgi the monsters were actually decently put together and although the storyline was lacking it was somewhat watchable if for only one time</td>\n",
       "    </tr>\n",
       "  </tbody>\n",
       "</table>\n",
       "</div>"
      ],
      "text/plain": [
       "   Unnamed: 0  label  \\\n",
       "0  48903       1       \n",
       "1  10174       0       \n",
       "2  34019       0       \n",
       "3  9815        0       \n",
       "4  6895        0       \n",
       "\n",
       "                                                                                                                                                                                                                                                                                                                                                                                                                                                                                                                                                                                                                                                                                                                                                                                                                                                                                                                                                                                                                                                                                                                                                                                                                                                                                                                                                                                                                                                                                                                                                                                                                                                                                                                                                                                                                                                                                                                                                                                                                                                                                                                                                                                                                                                                                                                                                                                                                                                                                                                                                                                                                    text  \\\n",
       "0  Although this movie has some weaknesses, it is worth seeing. I chose it because of the cast, and applaud Bonham Carter and Branagh for choosing roles different from those they have taken in the past. Both portray very troubled people, complete with warts, but make them likeable because of their humanity. The story is touching, but it is the performances that soar. Bonham Carter's \"Jane\" is a remarkable achievement, whose quest for romance opened my eyes to aspects of being disabled that I had not thought of before, but was interesting as well for other reasons. I felt the movie ended too abruptly, but better that than a drawn out emotionally manipulative ending (see \"Stepmom.\") The very real English setting added to my enjoyment - it was England in the 90's, both urban and rural, without being depressing.                                                                                                                                                                                                                                                                                                                                                                                                                                                                                                                                                                                                                                                                                                                                                                                                                                                                                                                                                                                                                                                                                                                                                                                                                                                                                                                                                                                                                                                                                                                                                                                                                                                                                                                                                                        \n",
       "1  I hate to comment on something I didn't finish, but if I spare one person what I sat through for almost an hour before turning it off in disgust, it will be worth it. <br /><br />I decided to watch this with an open mind, knowing it was on the bottom 100.<br /><br />Bad idea. I usually love crude humor, or can at least tolerate it. I love so-called \"black\" comedies. I'm not easily offended, either. <br /><br />It started off okay and quickly went downhill. I laughed a few times (for example, when the main character got stuck in the airplane toilet), but that was it and didn't compensate for the strong disgust I felt.<br /><br />I didn't laugh when the dog got sucked into a jet engine. I usually can't see the humor in animals dying (except in Animal House). I didn't laugh at much else of the nastiness, either. I turned it off after an incident involving a blind man and a baked potato that I don't care to repeat the details of, only that the wave of nausea still hasn't passed over me. <br /><br />Simply put, it was smut-filled and simply not funny with barely any plot. This is one of the times when if you don't have something nice to say, you should get the word out.<br /><br />Don't say I didn't warn you.                                                                                                                                                                                                                                                                                                                                                                                                                                                                                                                                                                                                                                                                                                                                                                                                                                                                                                                                                                                                                                                                                                                                                                                                                                                                                                                                                 \n",
       "2  The movie is steeped in religion, so it is impossible to separate it from religion in commenting upon it. In my opinion, this movie pretends to explore deep issues, but thrives on stereotypes and prejudices; with little true insight. What the people in the movie (and therefore, the writer) failed to see was grace. They failed to understand that God is the author of beauty and He is the Creator of passion and sexual gratification in the proper context of marriage bonds. To imply that the people of the society in which the story is based believe that nudity is sinful, and both the man & the woman enjoying the act of marriage is dirty, is just an oversimplification. Such stereotypes really don't exist, for even Jewish holy writings speak clearly of the caring husband who will seek his wife's pleasure before his own. Scripture says that a man ought to love his wife as his own flesh, and that no man ever hated his own flesh, but he nourishes and cherishes it. Even if you want to ignore the New Testament, the writers & characters completely ignore that there are passages such as the Song of Solomon in the Old Testament, and the even the book of Proverbs which says, \"Rejoice in the wife of thy youth, let her breasts satisfy you always\"! How can that be read in any way other way than that God knows, and approves of, and smiles on, the marital union and the enjoyment thereof? Real men don't ignore the value and needs of their wives. Those that do deny a very basic teaching of the Judeo/Christian religion. God NEVER said those things. It's absurd. Sonia rebelled because of the misapplication of the teachings of the true God of Abraham. It didn't need to be so. How sad. What Sonia desperately needed was TRUTH, not tradition. In knowing, loving and obeying God, we love others more; before ourselves. That is the faith of the God of Abraham, Isaac, Jacob & Joseph; once for all delivered to the Saints; bought & paid for by Jesus Christ, the Righteous. But alright, ignore all this and abandon ancient, holy Scripture and turn to the wisdom of homeless people & ghosts. That's a good plan. I would never recommend this movie; partly because the sexual content is unnecessarily graphic, but also because it really doesn't offer any valuable insight. Check out \"Yentl\" if you want to see a much more useful treatment of Jewish tradition at odds with society.                                                                                                                                                  \n",
       "3  I picked out this DVD out of the cheepo bin at Walmart because the cover showed one of the planes I flew during Viet-Nam (C-123k). I did not fly for Air America, but knew being a C-123 pilot, I knew a lot who did, including those who flew in my Reserve Unit back home. I am not a movie critic, but wonder about the subliminal motivation of Directors and Writers who make movies like this. The best part of this movie has to go to the cameraman. The flying shots and stunts (although totally cartoon like) are excellent. The movie begins with Hollywood's favorite fall guy in 1969. But the fact is, Nixon did not start Air America, he did not begin the lies. Johnson was responsible for Air America and Nixon inherited the lies, the war, and Air America. Its not fair or accurate to portray Nixon as a liar on the subject of Air America. All President's have inherited the lies of their predecessors. Nobody smart enough to fly a C-123 was dumb enough to not know what they were joining. That makes the Downey character unbelievable. A C-123 was a rugged airplane. It could easily fly on one engine, or the two auxiliary jet engines. The three stooges shooting a duck with one shot is more likely. Pilots who flew with Air America were civilian employees of the CIA, they were not reckless soldiers of fortune. They had a good reason to behave and believe in a future, if they survived their extremely dangerous job. They were given double time towards a retirement pension. They weren't required to sell dope or guns to get a good pension. Dope was legal and a way of life in SEA, as it still is today in Afganistan. If individual pilots tried to make money on the side, it was not CIA policy. The CIA was fighting a war on communism, not drugs. The writer based his story on \"war stories\". Pilots love to BS anybody who will buy them a beer and listen. The writer and Director who had an ax to grind about Viet-Nam and Nixon. See the movie, and remember how it starts - it blames Nixon for what existed for years. Remember, he didn't become President until Jan 20, 1969.<br /><br />My favorite scene is the landing up hill in the jungle. Air America pilots put planes in places the aircraft designers never thought possible. Their were plenty of funny stories that could have been shown. Instead, the Director chose to use the oversize rubber scene to show how dumb the CIA was. This scene shows that the Director and writer fell for some pilot bar talk and the joke is on them. <br /><br />MDS Fort Valley Virginia.   \n",
       "4  Jack Brooks (Trevor Matthews) is a college student with some severe anger issues. His family was brutally murdered when he was a child by a monster, and now he takes out his anger on everything and everyone.<br /><br />So when his professor (Robert Englund) begins to show signs of monsterism, he learns he has to control his rage and use it for good instead of evil, and fight the creatures that have been haunting his nightmares ever since that fateful night.<br /><br />Truly earns its B-rated rating, but what was cool about it was that it didn't focus on crappy B-rated CGI graphics. In fact, 0% of the film was CGI. The monsters were actually decently put together, and although the storyline was lacking, it was somewhat watchable...if for only one time.                                                                                                                                                                                                                                                                                                                                                                                                                                                                                                                                                                                                                                                                                                                                                                                                                                                                                                                                                                                                                                                                                                                                                                                                                                                                                                                                                                                                                                                                                                                                                                                                                                                                                                                                                                                                                               \n",
       "\n",
       "                                                                                                                                                                                                                                                                                                                                                                                                                                                                                                                                                                                                                                                                                                                                                                                                                                                                                                                                                                                                                                                                                                                                                                                                                                                                                                                                                                                                                                                                                                                                                                                                                                                                                                                                                                                                                                                                                                                                                                                                                                                                                                                                                                                                                                                                                                                                                                                                                                                                          prep_text  \n",
       "0  although this movie has some weaknesses it is worth seeing i chose it because of the cast and applaud bonham carter and branagh for choosing roles different from those they have taken in the past both portray very troubled people complete with warts but make them likeable because of their humanity the story is touching but it is the performances that soar bonham carter jane is a remarkable achievement whose quest for romance opened my eyes to aspects of being disabled that i had not thought of before but was interesting as well for other reasons i felt the movie ended too abruptly but better that than a drawn out emotionally manipulative ending see stepmom the very real english setting added to my enjoyment it was england in the 90 both urban and rural without being depressing                                                                                                                                                                                                                                                                                                                                                                                                                                                                                                                                                                                                                                                                                                                                                                                                                                                                                                                                                                                                                                                                                                                                                                                                                                                                                                                                                                                                                                                                                                                                                                                                                                                               \n",
       "1  i hate to comment on something i did finish but if i spare one person what i sat through for almost an hour before turning it off in disgust it will be worth it br br i decided to watch this with an open mind knowing it was on the bottom br br bad idea i usually love crude humor or can at least tolerate it i love black comedies i not easily offended either br br it started off okay and quickly went downhill i laughed a few times for example when the main character got stuck in the airplane toilet but that was it and did compensate for the strong disgust i br br i did laugh when the dog got sucked into a jet engine i usually ca see the humor in animals dying except in animal house i did laugh at much else of the nastiness either i turned it off after an incident involving a blind man and a baked potato that i do care to repeat the details of only that the wave of nausea still has passed over me br br simply put it was and simply not funny with barely any plot this is one of the times when if you do have something nice to say you should get the word br br do say i did warn you                                                                                                                                                                                                                                                                                                                                                                                                                                                                                                                                                                                                                                                                                                                                                                                                                                                                                                                                                                                                                                                                                                                                                                                                                                                                                                                                               \n",
       "2  the movie is steeped in religion so it is impossible to separate it from religion in commenting upon it in my opinion this movie pretends to explore deep issues but thrives on stereotypes and prejudices with little true insight what the people in the movie and therefore the writer failed to see was grace they failed to understand that god is the author of beauty and he is the creator of passion and sexual gratification in the proper context of marriage bonds to imply that the people of the society in which the story is based believe that nudity is sinful and both the man the woman enjoying the act of marriage is dirty is just an oversimplification such stereotypes really do exist for even jewish holy writings speak clearly of the caring husband who will seek his wife pleasure before his own scripture says that a man ought to love his wife as his own flesh and that no man ever hated his own flesh but he nourishes and cherishes it even if you want to ignore the new testament the writers characters completely ignore that there are passages such as the song of solomon in the old testament and the even the book of proverbs which says rejoice in the wife of thy youth let her breasts satisfy you always how can that be read in any way other way than that god knows and approves of and smiles on the marital union and the enjoyment thereof real men do ignore the value and needs of their wives those that do deny a very basic teaching of the religion god never said those things it absurd sonia rebelled because of the misapplication of the teachings of the true god of abraham it did need to be so how sad what sonia desperately needed was truth not tradition in knowing loving and obeying god we love others more before ourselves that is the faith of the god of abraham isaac jacob joseph once for all delivered to the saints bought paid for by jesus christ the righteous but alright ignore all this and abandon ancient holy scripture and turn to the wisdom of homeless people ghosts that a good plan i would never recommend this movie partly because the sexual content is unnecessarily graphic but also because it really does offer any valuable insight check out yentl if you want to see a much more useful treatment of jewish tradition at odds with society                                                                                                                   \n",
       "3  i picked out this dvd out of the cheepo bin at walmart because the cover showed one of the planes i flew during i did not fly for air america but knew being a pilot i knew a lot who did including those who flew in my reserve unit back home i am not a movie critic but wonder about the subliminal motivation of directors and writers who make movies like this the best part of this movie has to go to the cameraman the flying shots and stunts although totally cartoon like are excellent the movie begins with hollywood favorite fall guy in but the fact is nixon did not start air america he did not begin the lies johnson was responsible for air america and nixon inherited the lies the war and air america its not fair or accurate to portray nixon as a liar on the subject of air america all president have inherited the lies of their predecessors nobody smart enough to fly a was dumb enough to not know what they were joining that makes the downey character unbelievable a was a rugged airplane it could easily fly on one engine or the two auxiliary jet engines the three stooges shooting a duck with one shot is more likely pilots who flew with air america were civilian employees of the cia they were not reckless soldiers of fortune they had a good reason to behave and believe in a future if they survived their extremely dangerous job they were given double time towards a retirement pension they were required to sell dope or guns to get a good pension dope was legal and a way of life in sea as it still is today in afganistan if individual pilots tried to make money on the side it was not cia policy the cia was fighting a war on communism not drugs the writer based his story on war stories pilots love to bs anybody who will buy them a beer and listen the writer and director who had an ax to grind about and nixon see the movie and remember how it starts it blames nixon for what existed for years remember he did become president until jan 20 br br my favorite scene is the landing up hill in the jungle air america pilots put planes in places the aircraft designers never thought possible their were plenty of funny stories that could have been shown instead the director chose to use the oversize rubber scene to show how dumb the cia was this scene shows that the director and writer fell for some pilot bar talk and the joke is on them br br mds fort valley virginia  \n",
       "4  jack brooks trevor matthews is a college student with some severe anger issues his family was brutally murdered when he was a child by a monster and now he takes out his anger on everything and br br so when his professor robert englund begins to show signs of monsterism he learns he has to control his rage and use it for good instead of evil and fight the creatures that have been haunting his nightmares ever since that fateful br br truly earns its rating but what was cool about it was that it did focus on crappy cgi graphics in fact 0 of the film was cgi the monsters were actually decently put together and although the storyline was lacking it was somewhat watchable if for only one time                                                                                                                                                                                                                                                                                                                                                                                                                                                                                                                                                                                                                                                                                                                                                                                                                                                                                                                                                                                                                                                                                                                                                                                                                                                                                                                                                                                                                                                                                                                                                                                                                                                                                                                                                         "
      ]
     },
     "execution_count": 77,
     "metadata": {},
     "output_type": "execute_result"
    }
   ],
   "source": [
    "train_data.head()"
   ]
  },
  {
   "cell_type": "markdown",
   "metadata": {
    "deletable": true,
    "editable": true
   },
   "source": [
    "### Padding data\n",
    "\n",
    "Keras [Embedding layer](https://keras.io/layers/embeddings/) turn positive integers (indexes) into dense vectors of fixed size. \n",
    "\n",
    "* 1) Firstly convert words to indexes\n",
    "* 2) Then we padding data\n",
    "\n",
    "['юристы есть', 'мне нужны юристы'] -> [[0, 4, 10], [2, 3, 4]] -> [[0.25, 0.1], [0.6, -0.2]]"
   ]
  },
  {
   "cell_type": "markdown",
   "metadata": {},
   "source": [
    "#### Train own word2vec"
   ]
  },
  {
   "cell_type": "code",
   "execution_count": 10,
   "metadata": {
    "collapsed": false
   },
   "outputs": [
    {
     "name": "stdout",
     "output_type": "stream",
     "text": [
      "CPU times: user 1min 42s, sys: 804 ms, total: 1min 43s\n",
      "Wall time: 15.5 s\n"
     ]
    }
   ],
   "source": [
    "%%time\n",
    "import gensim\n",
    "from gensim.models import Word2Vec\n",
    "\n",
    "word2vec_sequences = []\n",
    "for raw_sentence in pd.concat([train_data['prep_text'], test_data['prep_text']]):\n",
    "    # If a sentence is empty, skip it\n",
    "    if len(raw_sentence) > 0:\n",
    "        # Otherwise, call review_to_wordlist to get a list of words\n",
    "        word2vec_sequences.append(raw_sentence.split())\n",
    "\n",
    "# Set values for various parameters\n",
    "num_features = 300    # Word vector dimensionality                      \n",
    "min_word_count = 10    # Minimum word count                        \n",
    "num_workers = 8       # Number of threads to run in parallel\n",
    "context = 5          # Context window size                                                                                    \n",
    "downsampling = 1e-3   # Downsample setting for frequent words\n",
    "training_algorithm = 1 # 0-CBOW, 1-SkipGram \n",
    "\n",
    "word2vec_own = Word2Vec(word2vec_sequences, workers=num_workers, \\\n",
    "            size=num_features, min_count = min_word_count, \\\n",
    "            window = context, sample = downsampling, \\\n",
    "            sg=training_algorithm)"
   ]
  },
  {
   "cell_type": "code",
   "execution_count": 11,
   "metadata": {
    "collapsed": false
   },
   "outputs": [
    {
     "data": {
      "text/plain": [
       "12272"
      ]
     },
     "execution_count": 11,
     "metadata": {},
     "output_type": "execute_result"
    }
   ],
   "source": [
    "len(word2vec_own.index2word)"
   ]
  },
  {
   "cell_type": "code",
   "execution_count": 12,
   "metadata": {
    "collapsed": false
   },
   "outputs": [
    {
     "data": {
      "text/plain": [
       "[('woman', 0.680745005607605),\n",
       " ('boy', 0.6366527080535889),\n",
       " ('lady', 0.6123769879341125),\n",
       " ('artist', 0.5911445021629333),\n",
       " ('father', 0.5878561735153198),\n",
       " ('person', 0.5845483541488647),\n",
       " ('men', 0.5828735828399658),\n",
       " ('athlete', 0.5750707983970642),\n",
       " ('teenager', 0.57445228099823),\n",
       " ('preacher', 0.5719428062438965)]"
      ]
     },
     "execution_count": 12,
     "metadata": {},
     "output_type": "execute_result"
    }
   ],
   "source": [
    "word2vec_own.most_similar('man')"
   ]
  },
  {
   "cell_type": "code",
   "execution_count": 13,
   "metadata": {
    "collapsed": false
   },
   "outputs": [
    {
     "data": {
      "text/plain": [
       "[('simon', 0.6156444549560547),\n",
       " ('dickens', 0.6015875339508057),\n",
       " ('1938', 0.593317985534668),\n",
       " ('novella', 0.5894135236740112),\n",
       " ('charles', 0.5850018262863159),\n",
       " ('hardy', 0.5817059278488159),\n",
       " ('jane', 0.580927848815918),\n",
       " ('yuppie', 0.580543041229248),\n",
       " ('novels', 0.5722631216049194),\n",
       " ('lovecraft', 0.571262776851654)]"
      ]
     },
     "execution_count": 13,
     "metadata": {},
     "output_type": "execute_result"
    }
   ],
   "source": [
    "word2vec_own.most_similar(positive=['woman', 'king'], negative=['man'])"
   ]
  },
  {
   "cell_type": "code",
   "execution_count": 14,
   "metadata": {
    "collapsed": true
   },
   "outputs": [],
   "source": [
    "word2vec_own.init_sims(replace=True)"
   ]
  },
  {
   "cell_type": "markdown",
   "metadata": {
    "deletable": true,
    "editable": true
   },
   "source": [
    "#### Loading google word2vec"
   ]
  },
  {
   "cell_type": "code",
   "execution_count": 15,
   "metadata": {
    "collapsed": false,
    "deletable": true,
    "editable": true
   },
   "outputs": [
    {
     "name": "stdout",
     "output_type": "stream",
     "text": [
      "Loaded\n",
      "CPU times: user 2min 22s, sys: 4.27 s, total: 2min 26s\n",
      "Wall time: 2min 27s\n"
     ]
    }
   ],
   "source": [
    "%%time\n",
    "from gensim.models import Word2Vec\n",
    "\n",
    "word2vec_google = Word2Vec.load_word2vec_format('GoogleNews-vectors-negative300.bin.gz', binary=True)\n",
    "print(\"Loaded\")"
   ]
  },
  {
   "cell_type": "code",
   "execution_count": 16,
   "metadata": {
    "collapsed": false
   },
   "outputs": [
    {
     "name": "stdout",
     "output_type": "stream",
     "text": [
      "CPU times: user 19 s, sys: 2.49 s, total: 21.5 s\n",
      "Wall time: 21.7 s\n"
     ]
    }
   ],
   "source": [
    "%%time\n",
    "# Normalizing word2vec vectors.\n",
    "word2vec_google.init_sims(replace=True)  # Normalizes the vectors in the word2vec class."
   ]
  },
  {
   "cell_type": "code",
   "execution_count": 17,
   "metadata": {
    "collapsed": false
   },
   "outputs": [
    {
     "data": {
      "text/plain": [
       "3000000"
      ]
     },
     "execution_count": 17,
     "metadata": {},
     "output_type": "execute_result"
    }
   ],
   "source": [
    "len(word2vec_google.index2word)"
   ]
  },
  {
   "cell_type": "code",
   "execution_count": 118,
   "metadata": {
    "collapsed": false
   },
   "outputs": [
    {
     "data": {
      "text/plain": [
       "[('Malkin', 0.6326718330383301),\n",
       " ('Sidney_Crosby', 0.6087846755981445),\n",
       " ('Doughty', 0.5953410863876343),\n",
       " ('Staal', 0.5891959071159363),\n",
       " ('Lemieux', 0.5863054990768433),\n",
       " ('Osgood', 0.585029661655426),\n",
       " ('Spezza', 0.5774127840995789),\n",
       " ('Brodeur', 0.5747572183609009),\n",
       " ('Ovechkin', 0.572833776473999),\n",
       " ('Letang', 0.5727470517158508)]"
      ]
     },
     "execution_count": 118,
     "metadata": {},
     "output_type": "execute_result"
    }
   ],
   "source": [
    "word2vec_google.most_similar('Crosby')"
   ]
  },
  {
   "cell_type": "code",
   "execution_count": 79,
   "metadata": {
    "collapsed": false,
    "deletable": true,
    "editable": true
   },
   "outputs": [
    {
     "data": {
      "text/plain": [
       "[('queen', 0.7118192315101624),\n",
       " ('monarch', 0.6189674139022827),\n",
       " ('princess', 0.5902431011199951),\n",
       " ('crown_prince', 0.5499460697174072),\n",
       " ('prince', 0.5377321839332581),\n",
       " ('kings', 0.5236844420433044),\n",
       " ('Queen_Consort', 0.5235946178436279),\n",
       " ('queens', 0.5181134343147278),\n",
       " ('sultan', 0.5098593235015869),\n",
       " ('monarchy', 0.5087412595748901)]"
      ]
     },
     "execution_count": 79,
     "metadata": {},
     "output_type": "execute_result"
    }
   ],
   "source": [
    "word2vec_google.most_similar(positive=['woman', 'king'], negative=['man'])"
   ]
  },
  {
   "cell_type": "markdown",
   "metadata": {
    "deletable": true,
    "editable": true
   },
   "source": [
    "#### 1. String -> Int vector"
   ]
  },
  {
   "cell_type": "code",
   "execution_count": 80,
   "metadata": {
    "collapsed": false,
    "deletable": true,
    "editable": true
   },
   "outputs": [
    {
     "name": "stdout",
     "output_type": "stream",
     "text": [
      "Found 98543 unique tokens.\n"
     ]
    }
   ],
   "source": [
    "tokenizer = Tokenizer(nb_words=MAX_NB_WORDS)\n",
    "tokenizer.fit_on_texts(pd.concat([train_data['prep_text'], test_data['prep_text']]))\n",
    "word_index = tokenizer.word_index\n",
    "print('Found %s unique tokens.' % len(word_index))"
   ]
  },
  {
   "cell_type": "code",
   "execution_count": 81,
   "metadata": {
    "collapsed": false,
    "deletable": true,
    "editable": true
   },
   "outputs": [],
   "source": [
    "#save tokenizer\n",
    "with open(TOKENIZER_NAME,'wb') as ofile:\n",
    "    pickle.dump(tokenizer, ofile)\n",
    "    ofile.close()"
   ]
  },
  {
   "cell_type": "markdown",
   "metadata": {},
   "source": [
    "#### Add embeddings"
   ]
  },
  {
   "cell_type": "code",
   "execution_count": 82,
   "metadata": {
    "collapsed": false
   },
   "outputs": [],
   "source": [
    "def get_embedding(word2vec_model, word):\n",
    "    try:\n",
    "        return word2vec_model[word]\n",
    "    except KeyError:\n",
    "        return np.zeros(word2vec_model.vector_size)"
   ]
  },
  {
   "cell_type": "code",
   "execution_count": 83,
   "metadata": {
    "collapsed": false
   },
   "outputs": [],
   "source": [
    "nb_words = min(MAX_NB_WORDS, len(word_index))\n",
    "\n",
    "embedding_weights_own = np.zeros((nb_words, word2vec_own.vector_size))\n",
    "for word, i in word_index.items():\n",
    "    if i >= MAX_NB_WORDS:\n",
    "        continue\n",
    "    embedding_weights_own[i] = get_embedding(word2vec_own, word)\n",
    "    \n",
    "embedding_weights_google = np.zeros((nb_words, word2vec_google.vector_size))\n",
    "for word, i in word_index.items():\n",
    "    if i >= MAX_NB_WORDS:\n",
    "        continue\n",
    "    embedding_weights_google[i] = get_embedding(word2vec_google, word)"
   ]
  },
  {
   "cell_type": "code",
   "execution_count": 84,
   "metadata": {
    "collapsed": false,
    "scrolled": true
   },
   "outputs": [
    {
     "data": {
      "text/plain": [
       "(20000, 300)"
      ]
     },
     "execution_count": 84,
     "metadata": {},
     "output_type": "execute_result"
    }
   ],
   "source": [
    "embedding_weights_own.shape"
   ]
  },
  {
   "cell_type": "markdown",
   "metadata": {
    "deletable": true,
    "editable": true
   },
   "source": [
    "#### 2. Padding"
   ]
  },
  {
   "cell_type": "code",
   "execution_count": 85,
   "metadata": {
    "collapsed": false,
    "deletable": true,
    "editable": true
   },
   "outputs": [],
   "source": [
    "sequences_train = tokenizer.texts_to_sequences(train_data['prep_text'])\n",
    "sequences_test = tokenizer.texts_to_sequences(test_data['prep_text'])\n",
    "\n",
    "padded_sequences_train = pad_sequences(sequences_train, maxlen=MAX_SEQUENCE_LENGTH)\n",
    "padded_sequences_test = pad_sequences(sequences_test, maxlen=MAX_SEQUENCE_LENGTH)"
   ]
  },
  {
   "cell_type": "code",
   "execution_count": 86,
   "metadata": {
    "collapsed": true,
    "deletable": true,
    "editable": true
   },
   "outputs": [],
   "source": [
    "def padding(text):\n",
    "    return pad_sequences(tokenizer.texts_to_sequences([text]), maxlen=MAX_SEQUENCE_LENGTH)"
   ]
  },
  {
   "cell_type": "code",
   "execution_count": 87,
   "metadata": {
    "collapsed": false,
    "deletable": true,
    "editable": true
   },
   "outputs": [],
   "source": [
    "x_train = padded_sequences_train\n",
    "x_test = padded_sequences_test\n",
    "y_train = train_data['label']\n",
    "y_test= test_data['label']"
   ]
  },
  {
   "cell_type": "markdown",
   "metadata": {
    "deletable": true,
    "editable": true
   },
   "source": [
    "---"
   ]
  },
  {
   "cell_type": "markdown",
   "metadata": {
    "deletable": true,
    "editable": true
   },
   "source": [
    "## Model"
   ]
  },
  {
   "cell_type": "code",
   "execution_count": 88,
   "metadata": {
    "collapsed": true,
    "deletable": true,
    "editable": true
   },
   "outputs": [],
   "source": [
    "LSTM_DIM = 128\n",
    "EMBEDDING_DIM = 300\n",
    "DROPOUT_U = 0.2\n",
    "DROPOUT_W = 0.2\n",
    "DROPOUT_AFTER_LSTM = 0.2"
   ]
  },
  {
   "cell_type": "markdown",
   "metadata": {
    "deletable": true,
    "editable": true
   },
   "source": [
    "---"
   ]
  },
  {
   "cell_type": "code",
   "execution_count": 89,
   "metadata": {
    "collapsed": true,
    "deletable": true,
    "editable": true
   },
   "outputs": [],
   "source": [
    "from keras.models import Sequential\n",
    "from keras.layers import Dense\n",
    "from keras.models import model_from_json\n",
    "from keras.layers import Flatten, Dropout\n",
    "from keras.layers import LSTM\n",
    "from keras.layers.embeddings import Embedding\n",
    "from keras.callbacks import ModelCheckpoint, TensorBoard, EarlyStopping"
   ]
  },
  {
   "cell_type": "code",
   "execution_count": 90,
   "metadata": {
    "collapsed": false,
    "deletable": true,
    "editable": true
   },
   "outputs": [
    {
     "name": "stdout",
     "output_type": "stream",
     "text": [
      "Shape of data tensor: (40000, 50)\n",
      "Shape of label tensor: (40000, 2)\n"
     ]
    }
   ],
   "source": [
    "labels = to_categorical(np.asarray(train_data['label']))\n",
    "print('Shape of data tensor:', padded_sequences_train.shape)\n",
    "print('Shape of label tensor:', labels.shape)"
   ]
  },
  {
   "cell_type": "code",
   "execution_count": 91,
   "metadata": {
    "collapsed": false,
    "deletable": true,
    "editable": true
   },
   "outputs": [],
   "source": [
    "def create_model(pretrained_embedding_weights = None):\n",
    "    model = Sequential()\n",
    "    if pretrained_embedding_weights is not None:\n",
    "        model.add(Embedding(nb_words,\n",
    "                            EMBEDDING_DIM, \n",
    "                            input_length=MAX_SEQUENCE_LENGTH,\n",
    "                            trainable=False,\n",
    "                            weights=[pretrained_embedding_weights]))\n",
    "    else:\n",
    "        model.add(Embedding(n_symbols, EMBEDDING_DIM, input_length=MAX_SEQUENCE_LENGTH))\n",
    "    model.add(LSTM(LSTM_DIM, dropout_U=DROPOUT_U, dropout_W=DROPOUT_W))\n",
    "    model.add(Dropout(DROPOUT_AFTER_LSTM))\n",
    "    model.add(Dense(1, activation='sigmoid'))\n",
    "    metrics=['accuracy', 'fmeasure', 'precision', 'recall']\n",
    "    model.compile(loss='binary_crossentropy', optimizer='adam', metrics=metrics)\n",
    "    return model"
   ]
  },
  {
   "cell_type": "code",
   "execution_count": 92,
   "metadata": {
    "collapsed": false
   },
   "outputs": [],
   "source": [
    "lstm_word2vec_own = create_model(embedding_weights_own)\n",
    "lstm_word2vec_google = create_model(embedding_weights_google)"
   ]
  },
  {
   "cell_type": "code",
   "execution_count": 94,
   "metadata": {
    "collapsed": false
   },
   "outputs": [
    {
     "name": "stdout",
     "output_type": "stream",
     "text": [
      "____________________________________________________________________________________________________\n",
      "Layer (type)                     Output Shape          Param #     Connected to                     \n",
      "====================================================================================================\n",
      "embedding_4 (Embedding)          (None, 50, 300)       6000000     embedding_input_4[0][0]          \n",
      "____________________________________________________________________________________________________\n",
      "lstm_4 (LSTM)                    (None, 100)           160400      embedding_4[0][0]                \n",
      "____________________________________________________________________________________________________\n",
      "dropout_4 (Dropout)              (None, 100)           0           lstm_4[0][0]                     \n",
      "____________________________________________________________________________________________________\n",
      "dense_4 (Dense)                  (None, 1)             101         dropout_4[0][0]                  \n",
      "====================================================================================================\n",
      "Total params: 6,160,501\n",
      "Trainable params: 160,501\n",
      "Non-trainable params: 6,000,000\n",
      "____________________________________________________________________________________________________\n"
     ]
    }
   ],
   "source": [
    "lstm_word2vec_google.summary()"
   ]
  },
  {
   "cell_type": "code",
   "execution_count": 95,
   "metadata": {
    "collapsed": false
   },
   "outputs": [],
   "source": [
    "tensor_board = TensorBoard(log_dir='./logs', histogram_freq=0, write_graph=False, write_images=False)\n",
    "early_stopping = EarlyStopping(monitor='val_loss', min_delta=0, patience=3, verbose=0, mode='auto')\n",
    "model_checkpoint = ModelCheckpoint(\"models/%s.hdf5\" % MODEL_NAME, monitor='val_loss', save_best_only=True, verbose=1)"
   ]
  },
  {
   "cell_type": "code",
   "execution_count": 96,
   "metadata": {
    "collapsed": false,
    "scrolled": true
   },
   "outputs": [
    {
     "name": "stdout",
     "output_type": "stream",
     "text": [
      "Train on 40000 samples, validate on 10000 samples\n",
      "WARNING:tensorflow:From /Users/jenya/miniconda3/lib/python3.5/site-packages/keras/callbacks.py:618 in set_model.: merge_all_summaries (from tensorflow.python.ops.logging_ops) is deprecated and will be removed after 2016-11-30.\n",
      "Instructions for updating:\n",
      "Please switch to tf.summary.merge_all.\n",
      "Epoch 1/50\n",
      "Epoch 00000: val_loss improved from inf to 0.49658, saving model to models/imdb_lstm_word2vec.hdf5\n",
      "113s - loss: 0.5843 - acc: 0.6936 - fmeasure: 0.6771 - precision: 0.7207 - recall: 0.6661 - val_loss: 0.4966 - val_acc: 0.7673 - val_fmeasure: 0.7638 - val_precision: 0.7745 - val_recall: 0.7557\n",
      "Epoch 2/50\n",
      "Epoch 00001: val_loss improved from 0.49658 to 0.49361, saving model to models/imdb_lstm_word2vec.hdf5\n",
      "198s - loss: 0.5229 - acc: 0.7415 - fmeasure: 0.7366 - precision: 0.7505 - recall: 0.7306 - val_loss: 0.4936 - val_acc: 0.7651 - val_fmeasure: 0.7568 - val_precision: 0.7824 - val_recall: 0.7352\n",
      "Epoch 3/50\n",
      "Epoch 00002: val_loss improved from 0.49361 to 0.47637, saving model to models/imdb_lstm_word2vec.hdf5\n",
      "146s - loss: 0.5016 - acc: 0.7546 - fmeasure: 0.7509 - precision: 0.7615 - recall: 0.7460 - val_loss: 0.4764 - val_acc: 0.7666 - val_fmeasure: 0.7386 - val_precision: 0.8356 - val_recall: 0.6639\n",
      "Epoch 4/50\n",
      "Epoch 00003: val_loss improved from 0.47637 to 0.44844, saving model to models/imdb_lstm_word2vec.hdf5\n",
      "151s - loss: 0.4787 - acc: 0.7691 - fmeasure: 0.7665 - precision: 0.7733 - recall: 0.7664 - val_loss: 0.4484 - val_acc: 0.7854 - val_fmeasure: 0.7673 - val_precision: 0.8342 - val_recall: 0.7120\n",
      "Epoch 5/50\n",
      "Epoch 00004: val_loss improved from 0.44844 to 0.42990, saving model to models/imdb_lstm_word2vec.hdf5\n",
      "199s - loss: 0.4603 - acc: 0.7785 - fmeasure: 0.7755 - precision: 0.7827 - recall: 0.7733 - val_loss: 0.4299 - val_acc: 0.7977 - val_fmeasure: 0.7969 - val_precision: 0.7980 - val_recall: 0.7979\n",
      "Epoch 6/50\n",
      "Epoch 00005: val_loss improved from 0.42990 to 0.42536, saving model to models/imdb_lstm_word2vec.hdf5\n",
      "158s - loss: 0.4488 - acc: 0.7858 - fmeasure: 0.7842 - precision: 0.7872 - recall: 0.7858 - val_loss: 0.4254 - val_acc: 0.7979 - val_fmeasure: 0.7913 - val_precision: 0.8156 - val_recall: 0.7705\n",
      "Epoch 7/50\n",
      "Epoch 00006: val_loss did not improve\n",
      "136s - loss: 0.4414 - acc: 0.7901 - fmeasure: 0.7891 - precision: 0.7898 - recall: 0.7934 - val_loss: 0.4314 - val_acc: 0.7954 - val_fmeasure: 0.7800 - val_precision: 0.8408 - val_recall: 0.7297\n",
      "Epoch 8/50\n",
      "Epoch 00007: val_loss improved from 0.42536 to 0.41443, saving model to models/imdb_lstm_word2vec.hdf5\n",
      "140s - loss: 0.4312 - acc: 0.7963 - fmeasure: 0.7943 - precision: 0.7998 - recall: 0.7935 - val_loss: 0.4144 - val_acc: 0.8062 - val_fmeasure: 0.8040 - val_precision: 0.8112 - val_recall: 0.7989\n",
      "Epoch 9/50\n",
      "Epoch 00008: val_loss improved from 0.41443 to 0.40779, saving model to models/imdb_lstm_word2vec.hdf5\n",
      "142s - loss: 0.4229 - acc: 0.8023 - fmeasure: 0.8017 - precision: 0.8018 - recall: 0.8057 - val_loss: 0.4078 - val_acc: 0.8081 - val_fmeasure: 0.8029 - val_precision: 0.8216 - val_recall: 0.7869\n",
      "Epoch 10/50\n",
      "Epoch 00009: val_loss improved from 0.40779 to 0.40215, saving model to models/imdb_lstm_word2vec.hdf5\n",
      "151s - loss: 0.4159 - acc: 0.8073 - fmeasure: 0.8065 - precision: 0.8073 - recall: 0.8096 - val_loss: 0.4021 - val_acc: 0.8127 - val_fmeasure: 0.8114 - val_precision: 0.8153 - val_recall: 0.8095\n",
      "Epoch 11/50\n",
      "Epoch 00010: val_loss improved from 0.40215 to 0.39763, saving model to models/imdb_lstm_word2vec.hdf5\n",
      "167s - loss: 0.4073 - acc: 0.8109 - fmeasure: 0.8103 - precision: 0.8102 - recall: 0.8148 - val_loss: 0.3976 - val_acc: 0.8150 - val_fmeasure: 0.8125 - val_precision: 0.8204 - val_recall: 0.8066\n",
      "Epoch 12/50\n",
      "Epoch 00011: val_loss did not improve\n",
      "147s - loss: 0.4004 - acc: 0.8152 - fmeasure: 0.8141 - precision: 0.8161 - recall: 0.8163 - val_loss: 0.3995 - val_acc: 0.8149 - val_fmeasure: 0.8197 - val_precision: 0.7970 - val_recall: 0.8457\n",
      "Epoch 13/50\n",
      "Epoch 00012: val_loss improved from 0.39763 to 0.38979, saving model to models/imdb_lstm_word2vec.hdf5\n",
      "130s - loss: 0.3947 - acc: 0.8178 - fmeasure: 0.8169 - precision: 0.8163 - recall: 0.8215 - val_loss: 0.3898 - val_acc: 0.8198 - val_fmeasure: 0.8156 - val_precision: 0.8335 - val_recall: 0.8002\n",
      "Epoch 14/50\n",
      "Epoch 00013: val_loss improved from 0.38979 to 0.38393, saving model to models/imdb_lstm_word2vec.hdf5\n",
      "128s - loss: 0.3895 - acc: 0.8201 - fmeasure: 0.8193 - precision: 0.8206 - recall: 0.8219 - val_loss: 0.3839 - val_acc: 0.8240 - val_fmeasure: 0.8212 - val_precision: 0.8308 - val_recall: 0.8133\n",
      "Epoch 15/50\n",
      "Epoch 00014: val_loss improved from 0.38393 to 0.38186, saving model to models/imdb_lstm_word2vec.hdf5\n",
      "122s - loss: 0.3824 - acc: 0.8233 - fmeasure: 0.8222 - precision: 0.8226 - recall: 0.8251 - val_loss: 0.3819 - val_acc: 0.8254 - val_fmeasure: 0.8214 - val_precision: 0.8377 - val_recall: 0.8074\n",
      "Epoch 16/50\n",
      "Epoch 00015: val_loss did not improve\n",
      "128s - loss: 0.3757 - acc: 0.8287 - fmeasure: 0.8282 - precision: 0.8271 - recall: 0.8324 - val_loss: 0.3869 - val_acc: 0.8234 - val_fmeasure: 0.8308 - val_precision: 0.7954 - val_recall: 0.8714\n",
      "Epoch 17/50\n",
      "Epoch 00016: val_loss improved from 0.38186 to 0.37692, saving model to models/imdb_lstm_word2vec.hdf5\n",
      "127s - loss: 0.3723 - acc: 0.8303 - fmeasure: 0.8295 - precision: 0.8295 - recall: 0.8332 - val_loss: 0.3769 - val_acc: 0.8266 - val_fmeasure: 0.8281 - val_precision: 0.8182 - val_recall: 0.8400\n",
      "Epoch 18/50\n",
      "Epoch 00017: val_loss improved from 0.37692 to 0.37111, saving model to models/imdb_lstm_word2vec.hdf5\n",
      "146s - loss: 0.3651 - acc: 0.8345 - fmeasure: 0.8335 - precision: 0.8333 - recall: 0.8372 - val_loss: 0.3711 - val_acc: 0.8339 - val_fmeasure: 0.8292 - val_precision: 0.8491 - val_recall: 0.8123\n",
      "Epoch 19/50\n",
      "Epoch 00018: val_loss improved from 0.37111 to 0.37030, saving model to models/imdb_lstm_word2vec.hdf5\n",
      "202s - loss: 0.3618 - acc: 0.8356 - fmeasure: 0.8353 - precision: 0.8340 - recall: 0.8411 - val_loss: 0.3703 - val_acc: 0.8314 - val_fmeasure: 0.8345 - val_precision: 0.8164 - val_recall: 0.8551\n",
      "Epoch 20/50\n",
      "Epoch 00019: val_loss improved from 0.37030 to 0.36537, saving model to models/imdb_lstm_word2vec.hdf5\n",
      "146s - loss: 0.3525 - acc: 0.8428 - fmeasure: 0.8428 - precision: 0.8397 - recall: 0.8490 - val_loss: 0.3654 - val_acc: 0.8347 - val_fmeasure: 0.8306 - val_precision: 0.8483 - val_recall: 0.8155\n",
      "Epoch 21/50\n",
      "Epoch 00020: val_loss improved from 0.36537 to 0.36427, saving model to models/imdb_lstm_word2vec.hdf5\n",
      "142s - loss: 0.3481 - acc: 0.8446 - fmeasure: 0.8438 - precision: 0.8428 - recall: 0.8482 - val_loss: 0.3643 - val_acc: 0.8347 - val_fmeasure: 0.8383 - val_precision: 0.8179 - val_recall: 0.8619\n",
      "Epoch 22/50\n",
      "Epoch 00021: val_loss did not improve\n",
      "140s - loss: 0.3448 - acc: 0.8448 - fmeasure: 0.8446 - precision: 0.8416 - recall: 0.8506 - val_loss: 0.3649 - val_acc: 0.8335 - val_fmeasure: 0.8270 - val_precision: 0.8565 - val_recall: 0.8014\n",
      "Epoch 23/50\n",
      "Epoch 00022: val_loss improved from 0.36427 to 0.36060, saving model to models/imdb_lstm_word2vec.hdf5\n",
      "142s - loss: 0.3378 - acc: 0.8498 - fmeasure: 0.8493 - precision: 0.8473 - recall: 0.8545 - val_loss: 0.3606 - val_acc: 0.8375 - val_fmeasure: 0.8358 - val_precision: 0.8413 - val_recall: 0.8325\n",
      "Epoch 24/50\n",
      "Epoch 00023: val_loss improved from 0.36060 to 0.35559, saving model to models/imdb_lstm_word2vec.hdf5\n",
      "140s - loss: 0.3339 - acc: 0.8518 - fmeasure: 0.8509 - precision: 0.8497 - recall: 0.8553 - val_loss: 0.3556 - val_acc: 0.8390 - val_fmeasure: 0.8375 - val_precision: 0.8414 - val_recall: 0.8355\n",
      "Epoch 25/50\n",
      "Epoch 00024: val_loss did not improve\n",
      "141s - loss: 0.3283 - acc: 0.8541 - fmeasure: 0.8532 - precision: 0.8531 - recall: 0.8566 - val_loss: 0.3566 - val_acc: 0.8391 - val_fmeasure: 0.8408 - val_precision: 0.8290 - val_recall: 0.8549\n",
      "Epoch 26/50\n",
      "Epoch 00025: val_loss improved from 0.35559 to 0.35292, saving model to models/imdb_lstm_word2vec.hdf5\n",
      "140s - loss: 0.3247 - acc: 0.8564 - fmeasure: 0.8559 - precision: 0.8542 - recall: 0.8605 - val_loss: 0.3529 - val_acc: 0.8422 - val_fmeasure: 0.8388 - val_precision: 0.8539 - val_recall: 0.8265\n",
      "Epoch 27/50\n",
      "Epoch 00026: val_loss did not improve\n",
      "139s - loss: 0.3187 - acc: 0.8576 - fmeasure: 0.8569 - precision: 0.8560 - recall: 0.8604 - val_loss: 0.3542 - val_acc: 0.8432 - val_fmeasure: 0.8445 - val_precision: 0.8341 - val_recall: 0.8570\n",
      "Epoch 28/50\n",
      "Epoch 00027: val_loss did not improve\n",
      "136s - loss: 0.3160 - acc: 0.8604 - fmeasure: 0.8598 - precision: 0.8580 - recall: 0.8641 - val_loss: 0.3543 - val_acc: 0.8421 - val_fmeasure: 0.8389 - val_precision: 0.8517 - val_recall: 0.8283\n",
      "Epoch 29/50\n",
      "Epoch 00028: val_loss did not improve\n",
      "135s - loss: 0.3113 - acc: 0.8624 - fmeasure: 0.8619 - precision: 0.8602 - recall: 0.8661 - val_loss: 0.3531 - val_acc: 0.8426 - val_fmeasure: 0.8385 - val_precision: 0.8577 - val_recall: 0.8220\n",
      "Epoch 30/50\n",
      "Epoch 00029: val_loss did not improve\n",
      "134s - loss: 0.3048 - acc: 0.8652 - fmeasure: 0.8652 - precision: 0.8619 - recall: 0.8713 - val_loss: 0.3547 - val_acc: 0.8422 - val_fmeasure: 0.8380 - val_precision: 0.8571 - val_recall: 0.8219\n"
     ]
    },
    {
     "data": {
      "text/plain": [
       "<keras.callbacks.History at 0x11cd22128>"
      ]
     },
     "execution_count": 96,
     "metadata": {},
     "output_type": "execute_result"
    }
   ],
   "source": [
    "lstm_word2vec_google.fit(x_train, y_train, \n",
    "                         nb_epoch=50,\n",
    "                         batch_size=128,\n",
    "                         verbose=2,\n",
    "                         validation_data=(x_test, y_test),\n",
    "                         callbacks=[tensor_board, early_stopping, model_checkpoint])"
   ]
  },
  {
   "cell_type": "code",
   "execution_count": null,
   "metadata": {
    "collapsed": false,
    "deletable": true,
    "editable": true
   },
   "outputs": [],
   "source": [
    "%%time\n",
    "# Fit the model\n",
    "lstm_word2vec_own.fit(x_train, y_train, \n",
    "                         nb_epoch=50,\n",
    "                         batch_size=128,\n",
    "                         verbose=2,\n",
    "                         validation_data=(x_test, y_test),\n",
    "                         callbacks=[tensor_board, early_stopping, model_checkpoint])"
   ]
  },
  {
   "cell_type": "markdown",
   "metadata": {
    "deletable": true,
    "editable": true
   },
   "source": [
    "## Analyze results"
   ]
  },
  {
   "cell_type": "code",
   "execution_count": 138,
   "metadata": {
    "collapsed": true
   },
   "outputs": [],
   "source": [
    "predictions = lstm_word2vec_google.predict(padded_sequences_test)"
   ]
  },
  {
   "cell_type": "code",
   "execution_count": 139,
   "metadata": {
    "collapsed": true
   },
   "outputs": [],
   "source": [
    "test_data['p'] = [p[0] for p in predictions]"
   ]
  },
  {
   "cell_type": "code",
   "execution_count": 140,
   "metadata": {
    "collapsed": false
   },
   "outputs": [
    {
     "name": "stderr",
     "output_type": "stream",
     "text": [
      "/Users/jenya/miniconda3/lib/python3.5/site-packages/ipykernel/__main__.py:1: UserWarning: Boolean Series key will be reindexed to match DataFrame index.\n",
      "  if __name__ == '__main__':\n"
     ]
    },
    {
     "data": {
      "text/html": [
       "<div>\n",
       "<table border=\"1\" class=\"dataframe\">\n",
       "  <thead>\n",
       "    <tr style=\"text-align: right;\">\n",
       "      <th></th>\n",
       "      <th>label</th>\n",
       "      <th>p</th>\n",
       "      <th>text</th>\n",
       "    </tr>\n",
       "  </thead>\n",
       "  <tbody>\n",
       "    <tr>\n",
       "      <th>5281</th>\n",
       "      <td>1</td>\n",
       "      <td>0.000493</td>\n",
       "      <td>WARNING - POSSIBLE SPOILERS!&lt;br /&gt;&lt;br /&gt;'Rock Star' is one of the solid rock movies I have ever seen. The original idea of the script focuses on a young singer in the 80s, leading a tribute band of one of the most famous hard rock bands of the period. He is not only playing their music to the note, but also living the life of his idols. When his friends in the tribute band expel him, in search of some originality, the destiny plays him a good turn, and gets hired to replace the lead singer of the idols band. A dream came true? Well, almost. While starting to live the life of the famous, including the drug and sex excesses of the rock scene of the 80s, he will also have to face the problems in relationship with his supportive girlfriend, and will be eventually need to answer questions about creativity and having a saying in the music of the band.&lt;br /&gt;&lt;br /&gt;I liked the film, one of the reasons being that it is one of the first times that the life and music of the hard metal rock bands is shown in a realistic manner. Fans of the music genre will be satisfied by the soundtrack. The overall idea is original, and the issues of how an artist lives his life and creates his art are being rendered in a sensible and balanced manner. Acting is quite good, with Mark Wahlberg better than in most of the other action flics I saw him lately, and Jennifer Aniston in tune with the nice-girl-who-knows-a-lot-about-life role. More problematic is the ending, which is quite conventional, and may disappoint. It looks like the main character after quiting the big and famous band has found his own creative path. However, in an ironical twist the music he is playing in the club at the end is the worst in the whole movie! &lt;br /&gt;&lt;br /&gt;8/10 on my personal scale. Worth seeing - however, expect exposure to a high dose of metal. If you do not like this kind of music, you may chose to avoid this film.</td>\n",
       "    </tr>\n",
       "    <tr>\n",
       "      <th>9252</th>\n",
       "      <td>1</td>\n",
       "      <td>0.000627</td>\n",
       "      <td>My 10/10 rating of course applies only if you're willing to get completely and utterly grossed out*. Because you know that only John Waters can do that. In \"Pink Flamingos\" (his directorial debut), he portrays two families locked in combat to see who can be the filthiest person alive. What Divine famously does at the end pretty much answers the question. But even aside from that, the movie is basically an excuse to shock people beyond what anyone would usually imagine. You had better have a very strong stomach to watch this movie. Even some of the lines are rather mind-blowing.&lt;br /&gt;&lt;br /&gt;*Otherwise, avoid this movie like you would the ebola virus!</td>\n",
       "    </tr>\n",
       "    <tr>\n",
       "      <th>8298</th>\n",
       "      <td>1</td>\n",
       "      <td>0.000664</td>\n",
       "      <td>Nothing new is this tired serio-comedy that wastes the talents of Danny Glover and Whoopi Goldberg. Considering that this was produced by the stars and Spike Lee, it's pretty tame and tired stuff. And how come the Whoop never changes her hair or glasses over the many years this film covers? Blah!</td>\n",
       "    </tr>\n",
       "    <tr>\n",
       "      <th>2453</th>\n",
       "      <td>1</td>\n",
       "      <td>0.003652</td>\n",
       "      <td>Hmmmm, want a little romance with your mystery? This has it. I think if the romance was ditched this would have made for a better movie. But how could the romance be ditched when the story's borrowed from something called a Harlequin Romance novel, whatever the heck that is. Had the romance been ditched, the story might have been a little too weak. The mystery here wasn't too bad, quite interesting but nothing on the level of Mission Impossible international espionage. Oh well. I thought Mel Harris was pretty good; her short skirts, i think, added some sex appeal... but this Rob Stewart guy probably could have been better cast, maybe with a more well known TV movie actor. The directing was decent and the writing could have been improved on - both could have been a little edgier, a little darker, more adventurous. One thing that was great about this was the use of real European locations. That could easily have been changed so this could have been filmed in Canada but they really were in magnificently beautiful places like Budapest. Possibly a drawback was the director and/or cinematographer's choice to frame certain shots picture postcard perfect. Not good. Had this been a more dramatic motion picture shot for the big screen, picture postcard perfect scenes really need to take a backseat and just be a nice part of the background. This was just a tv-movie, though, so they had to add some Ummmph to the picture and some of that Ummmph came from the scenery. Overall, twasn't really a bad movie. I'll tell you what, this was absolutely the best Canadian-Hungarian production I have ever seen! (and the only that i know of.) I hereby proclaim this to be a mediocre made-for-tv movie, giving it a grade of C-</td>\n",
       "    </tr>\n",
       "    <tr>\n",
       "      <th>9245</th>\n",
       "      <td>1</td>\n",
       "      <td>0.004152</td>\n",
       "      <td>Regarded as another one of the recent over-the-top drama's brought upon us by Hollywood, this movie excels where others have totally failed(especially considering the most underrated performance in recent dramatic character portrayal by that of Natalie Portman), this film is almost unanimously driven by the chemistry that both Susan and Natalie share. They seem to be so natural during the movie that you would mistake them for a real family. They go through so many mother-daughter conflicts in the story its kind of hard not to pick up on their acting abilities. I feel that these two actress' talented performances picked up where the story was lacking and almost too familiar (full of cliche's) and really saved the suffering plot. I would recommend this movie mainly to those who like either of the two actresses or such over-the-top drama's.</td>\n",
       "    </tr>\n",
       "    <tr>\n",
       "      <th>8284</th>\n",
       "      <td>1</td>\n",
       "      <td>0.004737</td>\n",
       "      <td>Why a good actress like Elizabeth Berkley stars in this commonplace movie???!!! The cast gives some good performance (Elizabeth Berkley as a Barbie girl, Ele Keats as a girl without mother and Justin Whalin, a guy eternally lessened by his bother), but the direction is extremely boring and the story is NOT so interesting and original. I can NOT believe that a movie like this was produced for the big screen! Julie Corman (the producer): are you CRAZY???!!!</td>\n",
       "    </tr>\n",
       "    <tr>\n",
       "      <th>1122</th>\n",
       "      <td>1</td>\n",
       "      <td>0.005293</td>\n",
       "      <td>\"Comanche Moon\" had everything going for it. For starters, Simon Wincer's back, a man who's name is synonymous with high-quality TV westerns. Unfortunately, the problems with \"Moon\" are something even the most talented director couldn't solve: A poor script based on a lackluster novel.&lt;br /&gt;&lt;br /&gt;Forget historical accuracies -- as any reader of the novels can tell you, the biggest travesty in \"Moon\" is that it's not even consistent with information from the original \"Lonesome Dove\" masterpiece. So many wonderful, rich moments in the miniseries and, to an even greater degree, the book, are completely missing in \"Moon.\" Considering the fact that most viewers of \"Moon\" are probably coming with at least some sort of \"Dove\" background, the lack of character-driven and emotional backstory is downright painful. &lt;br /&gt;&lt;br /&gt;That said, \"Moon\" is one instance where the adapted version could and should have been altered to make it more suitable for the screen. For example, the novel \"Moon\" focuses largely on the Comanches themselves. To its credit, the miniseries tries to service the Comanches, but in the end it gives them just enough that the viewer just gets a sense they're missing out on some important part of the story. Similarly, Val Kilmer's Scull loses out here too -- the role should have either been expanded so Kilmer (and Rachel Griffiths, for that matter) actually had something to do, or the roles should have just been reduced to smaller, supporting parts. Instead, Kilmer gets top billing for a character that just leaves you scratching your head after his appearance in the completely bizarre final act. &lt;br /&gt;&lt;br /&gt;There's strange moments throughout the film that just make no sense to those who haven't read the book (a killer parrot? what?) -- further, there isn't a single scene that shows us that Call and McCrae are anything near the amazing Texas rangers they claim to be. Not a single one of their expeditions in Moon (or \"Dead Man's Walk,\" for that matter) ends successfully, and Call and McCrae just seem to blunder their way through one pointless mission after another.&lt;br /&gt;&lt;br /&gt;Frankly, Larry McMurtry should never have been given the job of writing the script, and only did so because of the praise surrounding that other cowboy movie, Brokeback Mountain. McMurtry can write good novels (although there's some dissension over the consistency of that statement), but he's never exactly established himself as a scriptwriter. This production would have benefited from not only bringing back director Wincer, but original screenwriter Bill Wittcliff to adapt the novel to screen. Witcliff doesn't exactly have a mountainload of material to his screen writing credit, but no one can deny he did a fantastic job at whittling down the original \"Lonesome Dove.\" With all this said, \"Comanche Moon\" is almost a brilliant production, aided by a terrific cast that unfortunately just aren't given enough to do. Steve Zahn's portrayal of Gus McCrae -- or rather, his portrayal of Robert Duvall as Gus McCrae -- is dead-on. And while some have criticized Karl Urban as Woodrow Call, saying his performance doesn't imitate the quiet, stoic Woodrow of the original movie, all I can say is: blame McMurtry, because McMurtry is the one who -- both in the \"Moon\" novel and now the miniseries -- turned Woodrow from socially inept, awkward, but natural leader, into some emotionless character whose lines are just dull and whose character motivations are only clear if you've seen them portrayed far more adequately in the \"sequel\".&lt;br /&gt;&lt;br /&gt;Still, it's the cast that sparkles in \"Moon,\" to the degree that I left the miniseries with that same feeling of melancholy I felt watching the original \"Lonesome Dove\" -- this time because I realized it's probably the last time we'll see these characters appear on screen for a long, long time to come -- and quite honestly, this cast could have done so well in a well-nurtured, full-blown network TV series.&lt;br /&gt;&lt;br /&gt;All in all, aside from wasted opportunities with the cast, the biggest travesty is that the original Lonesome Dove novel contained so much rich backstory for the characters that would have been fascinating, utterly fascinating, to see translated on screen. Unfortunately, all that has been tossed aside in favor of McMurtry's tedious, inconsistent and ultimately irrelevant, prequel.</td>\n",
       "    </tr>\n",
       "    <tr>\n",
       "      <th>7239</th>\n",
       "      <td>1</td>\n",
       "      <td>0.006486</td>\n",
       "      <td>If the creators of this film had made any attempt at introducing reality to the plot, it would have been just one more waste of time, money, and creative effort. Fortunately, by throwing all pretense of reality to the winds, they have created a comedic marvel. Who could pass up a film in which an alien pilot spends the entire film acting like Jack Nicholson, complete with the Lakers T-shirt. Do not dismiss this film as trash.</td>\n",
       "    </tr>\n",
       "    <tr>\n",
       "      <th>9765</th>\n",
       "      <td>1</td>\n",
       "      <td>0.006561</td>\n",
       "      <td>Was this based on a comic-book? A video-game? A drawing by a 3 year-old? &lt;br /&gt;&lt;br /&gt;There is nothing in this movie to be taken seriously at all; not the characters, not the dialog, not the plot, not the action. Nothing. We have high-tech international terrorists/criminals who bicker like pre-school kids, Stallone's man-of-steel-type resilience towards ice-cold weather, dialog so dumb that it's sometimes almost hilarious, and so on. Even the codename that the bad guys use is dumb (\"tango-tango\"). A film that entertains through some suspense, good action-sequences, and a nice snowy mountainous setting. Oh, yes: and the unintentional humour.&lt;br /&gt;&lt;br /&gt;The film opens with some truly bad and unconvincing gay banter between our go-lucky and happy characters who are obviously having a \"swell\" time. Then comes a sweat-inducing failed-rescue part, which should make anyone with fear-of-heights problems want to pull their hair out. And then we have some more bad dialog, and after that some more great action. This is the rhythm of the film in a nutshell. &lt;br /&gt;&lt;br /&gt;Stallone's melodramatic exchange with Turner, when they meet after a long time, is so soapy, so clichÃ©d, so fake, and so bad that it should force a chuckle out of any self-respecting viewer. Soon after this display of awful dialog-writing, we are witnesses to a spectacular and excellently shot hijack of an airplane. The entire action is one big absurdity, but it's mindless fun at its best. Although the rest of the action is exciting and fun, the airplane scenes are truly the highlight of the film. After the landing, our master-criminals seek for a guide and end up with Stallone and Rooker. They send Stallone to fetch the first case of money, but somehow they do everything to make it as difficult as possible for him to reach it; they take most of his clothes off (so he can freeze) and they won't give him the equipment he needs (so he can fall off). DO THESE GANGSTERS WANT THEIR MONEY FETCHED OR NOT??? Very silly. Apparently they don't trust Stallone, but surely they know that they can always black-mail him by using Rooker as a hostage. Nevertheless, our gangsters make Stallone's climb difficult, if for no logical reasons then to at least show us how truly evil they are - lest there be any doubts. And for those who might still doubt how evil the bad guys are, they overact, brag, and snicker in a truly evil manner. Everyone convinced? Good. You'd better be. Otherwise the writers will throw in a mass execution of twenty school children, just to make sure that the evilness of the bad guys is crystal-clear to everyone.&lt;br /&gt;&lt;br /&gt;The old guy who flies the chopper... How the hell did he fall for the trap? Firstly, he must have been warned by the MTV airhead about the criminals, and secondly, he must have heard Stallone's and Rooker's voices on the walkie-talkies. A whole bunch of idiotic verbal exchanges take place, with Lithgow having the questionable honour of getting most of the silly lines. \"Get off my back!\" Lithgow: \"I haven't even started climbing on your back.\" Or, Lithgow to Stallone: \"We had a deal, but now we only have each other!\" And as for Lithgow's gang of murderers: these guys never seem to want to kill immediately. They are very creative about it; they philosophize, pretend that they are playing football with your body, and so on. &lt;br /&gt;&lt;br /&gt;Stallone co-wrote this thing. I have no idea what drugs he was on when he did it. I'd hate to think the script is this bad because of a low I.Q.</td>\n",
       "    </tr>\n",
       "    <tr>\n",
       "      <th>8916</th>\n",
       "      <td>1</td>\n",
       "      <td>0.006995</td>\n",
       "      <td>I find it so amazing that even after all these years, we are STILL talking about this movie! Obviously this movie wasn't THAT bad or else people wouldn't even BOTHER to talk about it. I personally enjoyed this film immensly, and still do! I guess this film isn't for everyone, but it certainly did touch the hearts of many. &lt;br /&gt;&lt;br /&gt;As for those that think that this film is \"overrated\" or \"over-hyped\"...well, we only have the movie-going public to thank for that! lol* You see, it's not CRITICS/article writers that make a film \"HUGE\" or a \"HIT\" with the general movie-going public. PEOPLE make the film a huge success. With Titanic, everyone was in awe. Let's face it, a film like this had never been made before. At least not with the type of special effects needed to really capture the essence of the ship actually sinking. This film is so accurate that even James Cameron timed the actual sinking of the ship in the film with the REAL sinking that fateful day in April 1912. Even the silverware for goodness sakes matched! &lt;br /&gt;&lt;br /&gt;Give this movie a break you guys! The critics thought this movie would sink BIG time! When this movie actually came out and people started hearing by WORD OF MOUTH (which is the BEST form of advertisement mind you) that this was a good/decent/movie worth seeing, then everyone started flocking to the theaters in droves to see this movie...not once, not twice, but maybe 3 times and more! So, I really wouldn't say that this movie was \"overhyped\"...at least not like the buildup for the MATRIX reloaded or the HULK is being \"overhyped\". ha! Critics didn't even think that Titanic would make enough money to cover Cameron's gigantic film budget that it took to make this mammoth of a film. However, the films money took care of that 200 million budget and MUCH more! &lt;br /&gt;&lt;br /&gt;Personally, I LOVE this film. However, this film might not be for everyone. DOn't say that this film sucks just because of romance though! THat is the most sexist thing I've ever heard! Disliking a movie just because it has romance in it! The story was sweet. The dialogue could have been better, but let's face it...the REAL star of the movie wasn't Leo or Kate...it was that GIGANTIC Ship! I think all of the actors including DiCaprio and Winslet did a fine job. It's not thier best work (I've seen much BETTER work from both of them) but it wasn't the WORST I've seen on screen before. Give them a break!&lt;br /&gt;&lt;br /&gt;</td>\n",
       "    </tr>\n",
       "  </tbody>\n",
       "</table>\n",
       "</div>"
      ],
      "text/plain": [
       "      label         p  \\\n",
       "5281  1      0.000493   \n",
       "9252  1      0.000627   \n",
       "8298  1      0.000664   \n",
       "2453  1      0.003652   \n",
       "9245  1      0.004152   \n",
       "8284  1      0.004737   \n",
       "1122  1      0.005293   \n",
       "7239  1      0.006486   \n",
       "9765  1      0.006561   \n",
       "8916  1      0.006995   \n",
       "\n",
       "                                                                                                                                                                                                                                                                                                                                                                                                                                                                                                                                                                                                                                                                                                                                                                                                                                                                                                                                                                                                                                                                                                                                                                                                                                                                                                                                                                                                                                                                                                                                                                                                                                                                                                                                                                                                                                                                                                                                                                                                                                                                                                                                                                                                                                                                                                                                                                                                                                                                                                                                                                                                                                                                                                                                                                                                                                                                                                                                                                                                                                                                                                                                                                                                                                                                                                                                                                                                                                                                                                                                                                                                                                                                                                                                                                                                                                                                                                                                                                                                                                                                                                                                                                                                                                                                                                                                                                                                                                                                                                                                                    text  \n",
       "5281  WARNING - POSSIBLE SPOILERS!<br /><br />'Rock Star' is one of the solid rock movies I have ever seen. The original idea of the script focuses on a young singer in the 80s, leading a tribute band of one of the most famous hard rock bands of the period. He is not only playing their music to the note, but also living the life of his idols. When his friends in the tribute band expel him, in search of some originality, the destiny plays him a good turn, and gets hired to replace the lead singer of the idols band. A dream came true? Well, almost. While starting to live the life of the famous, including the drug and sex excesses of the rock scene of the 80s, he will also have to face the problems in relationship with his supportive girlfriend, and will be eventually need to answer questions about creativity and having a saying in the music of the band.<br /><br />I liked the film, one of the reasons being that it is one of the first times that the life and music of the hard metal rock bands is shown in a realistic manner. Fans of the music genre will be satisfied by the soundtrack. The overall idea is original, and the issues of how an artist lives his life and creates his art are being rendered in a sensible and balanced manner. Acting is quite good, with Mark Wahlberg better than in most of the other action flics I saw him lately, and Jennifer Aniston in tune with the nice-girl-who-knows-a-lot-about-life role. More problematic is the ending, which is quite conventional, and may disappoint. It looks like the main character after quiting the big and famous band has found his own creative path. However, in an ironical twist the music he is playing in the club at the end is the worst in the whole movie! <br /><br />8/10 on my personal scale. Worth seeing - however, expect exposure to a high dose of metal. If you do not like this kind of music, you may chose to avoid this film.                                                                                                                                                                                                                                                                                                                                                                                                                                                                                                                                                                                                                                                                                                                                                                                                                                                                                                                                                                                                                                                                                                                                                                                                                                                                                                                                                                                                                                                                                                                                                                                                                                                                                                                                                                                                                                                                                                                                                                                                                                                                                                                                                                                                                                                                                                                                                                                                                                                                                                                                                                        \n",
       "9252  My 10/10 rating of course applies only if you're willing to get completely and utterly grossed out*. Because you know that only John Waters can do that. In \"Pink Flamingos\" (his directorial debut), he portrays two families locked in combat to see who can be the filthiest person alive. What Divine famously does at the end pretty much answers the question. But even aside from that, the movie is basically an excuse to shock people beyond what anyone would usually imagine. You had better have a very strong stomach to watch this movie. Even some of the lines are rather mind-blowing.<br /><br />*Otherwise, avoid this movie like you would the ebola virus!                                                                                                                                                                                                                                                                                                                                                                                                                                                                                                                                                                                                                                                                                                                                                                                                                                                                                                                                                                                                                                                                                                                                                                                                                                                                                                                                                                                                                                                                                                                                                                                                                                                                                                                                                                                                                                                                                                                                                                                                                                                                                                                                                                                                                                                                                                                                                                                                                                                                                                                                                                                                                                                                                                                                                                                                                                                                                                                                                                                                                                                                                                                                                                                                                                                                                                                                                                                                                                                                                                                                                                                                                                                                                                                                                                                                                                                                    \n",
       "8298  Nothing new is this tired serio-comedy that wastes the talents of Danny Glover and Whoopi Goldberg. Considering that this was produced by the stars and Spike Lee, it's pretty tame and tired stuff. And how come the Whoop never changes her hair or glasses over the many years this film covers? Blah!                                                                                                                                                                                                                                                                                                                                                                                                                                                                                                                                                                                                                                                                                                                                                                                                                                                                                                                                                                                                                                                                                                                                                                                                                                                                                                                                                                                                                                                                                                                                                                                                                                                                                                                                                                                                                                                                                                                                                                                                                                                                                                                                                                                                                                                                                                                                                                                                                                                                                                                                                                                                                                                                                                                                                                                                                                                                                                                                                                                                                                                                                                                                                                                                                                                                                                                                                                                                                                                                                                                                                                                                                                                                                                                                                                                                                                                                                                                                                                                                                                                                                                                                                                                                                                           \n",
       "2453  Hmmmm, want a little romance with your mystery? This has it. I think if the romance was ditched this would have made for a better movie. But how could the romance be ditched when the story's borrowed from something called a Harlequin Romance novel, whatever the heck that is. Had the romance been ditched, the story might have been a little too weak. The mystery here wasn't too bad, quite interesting but nothing on the level of Mission Impossible international espionage. Oh well. I thought Mel Harris was pretty good; her short skirts, i think, added some sex appeal... but this Rob Stewart guy probably could have been better cast, maybe with a more well known TV movie actor. The directing was decent and the writing could have been improved on - both could have been a little edgier, a little darker, more adventurous. One thing that was great about this was the use of real European locations. That could easily have been changed so this could have been filmed in Canada but they really were in magnificently beautiful places like Budapest. Possibly a drawback was the director and/or cinematographer's choice to frame certain shots picture postcard perfect. Not good. Had this been a more dramatic motion picture shot for the big screen, picture postcard perfect scenes really need to take a backseat and just be a nice part of the background. This was just a tv-movie, though, so they had to add some Ummmph to the picture and some of that Ummmph came from the scenery. Overall, twasn't really a bad movie. I'll tell you what, this was absolutely the best Canadian-Hungarian production I have ever seen! (and the only that i know of.) I hereby proclaim this to be a mediocre made-for-tv movie, giving it a grade of C-                                                                                                                                                                                                                                                                                                                                                                                                                                                                                                                                                                                                                                                                                                                                                                                                                                                                                                                                                                                                                                                                                                                                                                                                                                                                                                                                                                                                                                                                                                                                                                                                                                                                                                                                                                                                                                                                                                                                                                                                                                                                                                                                                                                                                                                                                                                                                                                                                                                                                                                                                                                                                                                                                                                                                      \n",
       "9245  Regarded as another one of the recent over-the-top drama's brought upon us by Hollywood, this movie excels where others have totally failed(especially considering the most underrated performance in recent dramatic character portrayal by that of Natalie Portman), this film is almost unanimously driven by the chemistry that both Susan and Natalie share. They seem to be so natural during the movie that you would mistake them for a real family. They go through so many mother-daughter conflicts in the story its kind of hard not to pick up on their acting abilities. I feel that these two actress' talented performances picked up where the story was lacking and almost too familiar (full of cliche's) and really saved the suffering plot. I would recommend this movie mainly to those who like either of the two actresses or such over-the-top drama's.                                                                                                                                                                                                                                                                                                                                                                                                                                                                                                                                                                                                                                                                                                                                                                                                                                                                                                                                                                                                                                                                                                                                                                                                                                                                                                                                                                                                                                                                                                                                                                                                                                                                                                                                                                                                                                                                                                                                                                                                                                                                                                                                                                                                                                                                                                                                                                                                                                                                                                                                                                                                                                                                                                                                                                                                                                                                                                                                                                                                                                                                                                                                                                                                                                                                                                                                                                                                                                                                                                                                                                                                                                                                   \n",
       "8284  Why a good actress like Elizabeth Berkley stars in this commonplace movie???!!! The cast gives some good performance (Elizabeth Berkley as a Barbie girl, Ele Keats as a girl without mother and Justin Whalin, a guy eternally lessened by his bother), but the direction is extremely boring and the story is NOT so interesting and original. I can NOT believe that a movie like this was produced for the big screen! Julie Corman (the producer): are you CRAZY???!!!                                                                                                                                                                                                                                                                                                                                                                                                                                                                                                                                                                                                                                                                                                                                                                                                                                                                                                                                                                                                                                                                                                                                                                                                                                                                                                                                                                                                                                                                                                                                                                                                                                                                                                                                                                                                                                                                                                                                                                                                                                                                                                                                                                                                                                                                                                                                                                                                                                                                                                                                                                                                                                                                                                                                                                                                                                                                                                                                                                                                                                                                                                                                                                                                                                                                                                                                                                                                                                                                                                                                                                                                                                                                                                                                                                                                                                                                                                                                                                                                                                                                         \n",
       "1122  \"Comanche Moon\" had everything going for it. For starters, Simon Wincer's back, a man who's name is synonymous with high-quality TV westerns. Unfortunately, the problems with \"Moon\" are something even the most talented director couldn't solve: A poor script based on a lackluster novel.<br /><br />Forget historical accuracies -- as any reader of the novels can tell you, the biggest travesty in \"Moon\" is that it's not even consistent with information from the original \"Lonesome Dove\" masterpiece. So many wonderful, rich moments in the miniseries and, to an even greater degree, the book, are completely missing in \"Moon.\" Considering the fact that most viewers of \"Moon\" are probably coming with at least some sort of \"Dove\" background, the lack of character-driven and emotional backstory is downright painful. <br /><br />That said, \"Moon\" is one instance where the adapted version could and should have been altered to make it more suitable for the screen. For example, the novel \"Moon\" focuses largely on the Comanches themselves. To its credit, the miniseries tries to service the Comanches, but in the end it gives them just enough that the viewer just gets a sense they're missing out on some important part of the story. Similarly, Val Kilmer's Scull loses out here too -- the role should have either been expanded so Kilmer (and Rachel Griffiths, for that matter) actually had something to do, or the roles should have just been reduced to smaller, supporting parts. Instead, Kilmer gets top billing for a character that just leaves you scratching your head after his appearance in the completely bizarre final act. <br /><br />There's strange moments throughout the film that just make no sense to those who haven't read the book (a killer parrot? what?) -- further, there isn't a single scene that shows us that Call and McCrae are anything near the amazing Texas rangers they claim to be. Not a single one of their expeditions in Moon (or \"Dead Man's Walk,\" for that matter) ends successfully, and Call and McCrae just seem to blunder their way through one pointless mission after another.<br /><br />Frankly, Larry McMurtry should never have been given the job of writing the script, and only did so because of the praise surrounding that other cowboy movie, Brokeback Mountain. McMurtry can write good novels (although there's some dissension over the consistency of that statement), but he's never exactly established himself as a scriptwriter. This production would have benefited from not only bringing back director Wincer, but original screenwriter Bill Wittcliff to adapt the novel to screen. Witcliff doesn't exactly have a mountainload of material to his screen writing credit, but no one can deny he did a fantastic job at whittling down the original \"Lonesome Dove.\" With all this said, \"Comanche Moon\" is almost a brilliant production, aided by a terrific cast that unfortunately just aren't given enough to do. Steve Zahn's portrayal of Gus McCrae -- or rather, his portrayal of Robert Duvall as Gus McCrae -- is dead-on. And while some have criticized Karl Urban as Woodrow Call, saying his performance doesn't imitate the quiet, stoic Woodrow of the original movie, all I can say is: blame McMurtry, because McMurtry is the one who -- both in the \"Moon\" novel and now the miniseries -- turned Woodrow from socially inept, awkward, but natural leader, into some emotionless character whose lines are just dull and whose character motivations are only clear if you've seen them portrayed far more adequately in the \"sequel\".<br /><br />Still, it's the cast that sparkles in \"Moon,\" to the degree that I left the miniseries with that same feeling of melancholy I felt watching the original \"Lonesome Dove\" -- this time because I realized it's probably the last time we'll see these characters appear on screen for a long, long time to come -- and quite honestly, this cast could have done so well in a well-nurtured, full-blown network TV series.<br /><br />All in all, aside from wasted opportunities with the cast, the biggest travesty is that the original Lonesome Dove novel contained so much rich backstory for the characters that would have been fascinating, utterly fascinating, to see translated on screen. Unfortunately, all that has been tossed aside in favor of McMurtry's tedious, inconsistent and ultimately irrelevant, prequel.  \n",
       "7239  If the creators of this film had made any attempt at introducing reality to the plot, it would have been just one more waste of time, money, and creative effort. Fortunately, by throwing all pretense of reality to the winds, they have created a comedic marvel. Who could pass up a film in which an alien pilot spends the entire film acting like Jack Nicholson, complete with the Lakers T-shirt. Do not dismiss this film as trash.                                                                                                                                                                                                                                                                                                                                                                                                                                                                                                                                                                                                                                                                                                                                                                                                                                                                                                                                                                                                                                                                                                                                                                                                                                                                                                                                                                                                                                                                                                                                                                                                                                                                                                                                                                                                                                                                                                                                                                                                                                                                                                                                                                                                                                                                                                                                                                                                                                                                                                                                                                                                                                                                                                                                                                                                                                                                                                                                                                                                                                                                                                                                                                                                                                                                                                                                                                                                                                                                                                                                                                                                                                                                                                                                                                                                                                                                                                                                                                                                                                                                                                       \n",
       "9765  Was this based on a comic-book? A video-game? A drawing by a 3 year-old? <br /><br />There is nothing in this movie to be taken seriously at all; not the characters, not the dialog, not the plot, not the action. Nothing. We have high-tech international terrorists/criminals who bicker like pre-school kids, Stallone's man-of-steel-type resilience towards ice-cold weather, dialog so dumb that it's sometimes almost hilarious, and so on. Even the codename that the bad guys use is dumb (\"tango-tango\"). A film that entertains through some suspense, good action-sequences, and a nice snowy mountainous setting. Oh, yes: and the unintentional humour.<br /><br />The film opens with some truly bad and unconvincing gay banter between our go-lucky and happy characters who are obviously having a \"swell\" time. Then comes a sweat-inducing failed-rescue part, which should make anyone with fear-of-heights problems want to pull their hair out. And then we have some more bad dialog, and after that some more great action. This is the rhythm of the film in a nutshell. <br /><br />Stallone's melodramatic exchange with Turner, when they meet after a long time, is so soapy, so clichÃ©d, so fake, and so bad that it should force a chuckle out of any self-respecting viewer. Soon after this display of awful dialog-writing, we are witnesses to a spectacular and excellently shot hijack of an airplane. The entire action is one big absurdity, but it's mindless fun at its best. Although the rest of the action is exciting and fun, the airplane scenes are truly the highlight of the film. After the landing, our master-criminals seek for a guide and end up with Stallone and Rooker. They send Stallone to fetch the first case of money, but somehow they do everything to make it as difficult as possible for him to reach it; they take most of his clothes off (so he can freeze) and they won't give him the equipment he needs (so he can fall off). DO THESE GANGSTERS WANT THEIR MONEY FETCHED OR NOT??? Very silly. Apparently they don't trust Stallone, but surely they know that they can always black-mail him by using Rooker as a hostage. Nevertheless, our gangsters make Stallone's climb difficult, if for no logical reasons then to at least show us how truly evil they are - lest there be any doubts. And for those who might still doubt how evil the bad guys are, they overact, brag, and snicker in a truly evil manner. Everyone convinced? Good. You'd better be. Otherwise the writers will throw in a mass execution of twenty school children, just to make sure that the evilness of the bad guys is crystal-clear to everyone.<br /><br />The old guy who flies the chopper... How the hell did he fall for the trap? Firstly, he must have been warned by the MTV airhead about the criminals, and secondly, he must have heard Stallone's and Rooker's voices on the walkie-talkies. A whole bunch of idiotic verbal exchanges take place, with Lithgow having the questionable honour of getting most of the silly lines. \"Get off my back!\" Lithgow: \"I haven't even started climbing on your back.\" Or, Lithgow to Stallone: \"We had a deal, but now we only have each other!\" And as for Lithgow's gang of murderers: these guys never seem to want to kill immediately. They are very creative about it; they philosophize, pretend that they are playing football with your body, and so on. <br /><br />Stallone co-wrote this thing. I have no idea what drugs he was on when he did it. I'd hate to think the script is this bad because of a low I.Q.                                                                                                                                                                                                                                                                                                                                                                                                                                                                                                                                                                                                                                                                                                                                                                                                                                                                                             \n",
       "8916  I find it so amazing that even after all these years, we are STILL talking about this movie! Obviously this movie wasn't THAT bad or else people wouldn't even BOTHER to talk about it. I personally enjoyed this film immensly, and still do! I guess this film isn't for everyone, but it certainly did touch the hearts of many. <br /><br />As for those that think that this film is \"overrated\" or \"over-hyped\"...well, we only have the movie-going public to thank for that! lol* You see, it's not CRITICS/article writers that make a film \"HUGE\" or a \"HIT\" with the general movie-going public. PEOPLE make the film a huge success. With Titanic, everyone was in awe. Let's face it, a film like this had never been made before. At least not with the type of special effects needed to really capture the essence of the ship actually sinking. This film is so accurate that even James Cameron timed the actual sinking of the ship in the film with the REAL sinking that fateful day in April 1912. Even the silverware for goodness sakes matched! <br /><br />Give this movie a break you guys! The critics thought this movie would sink BIG time! When this movie actually came out and people started hearing by WORD OF MOUTH (which is the BEST form of advertisement mind you) that this was a good/decent/movie worth seeing, then everyone started flocking to the theaters in droves to see this movie...not once, not twice, but maybe 3 times and more! So, I really wouldn't say that this movie was \"overhyped\"...at least not like the buildup for the MATRIX reloaded or the HULK is being \"overhyped\". ha! Critics didn't even think that Titanic would make enough money to cover Cameron's gigantic film budget that it took to make this mammoth of a film. However, the films money took care of that 200 million budget and MUCH more! <br /><br />Personally, I LOVE this film. However, this film might not be for everyone. DOn't say that this film sucks just because of romance though! THat is the most sexist thing I've ever heard! Disliking a movie just because it has romance in it! The story was sweet. The dialogue could have been better, but let's face it...the REAL star of the movie wasn't Leo or Kate...it was that GIGANTIC Ship! I think all of the actors including DiCaprio and Winslet did a fine job. It's not thier best work (I've seen much BETTER work from both of them) but it wasn't the WORST I've seen on screen before. Give them a break!<br /><br />                                                                                                                                                                                                                                                                                                                                                                                                                                                                                                                                                                                                                                                                                                                                                                                                                                                                                                                                                                                                                                                                                                                                                                                                                                                                                                                                                                                                                                                                                                                                                                                                                                                                                                                                                                                                                                                                                                                                                                                                          "
      ]
     },
     "execution_count": 140,
     "metadata": {},
     "output_type": "execute_result"
    }
   ],
   "source": [
    "test_data[test_data['p'] < 0.1][test_data['label'] == 1][['label', 'p', 'text']].sort_values('p')[:10]"
   ]
  },
  {
   "cell_type": "code",
   "execution_count": 143,
   "metadata": {
    "collapsed": false
   },
   "outputs": [
    {
     "name": "stderr",
     "output_type": "stream",
     "text": [
      "/Users/jenya/miniconda3/lib/python3.5/site-packages/ipykernel/__main__.py:1: UserWarning: Boolean Series key will be reindexed to match DataFrame index.\n",
      "  if __name__ == '__main__':\n"
     ]
    },
    {
     "data": {
      "text/html": [
       "<div>\n",
       "<table border=\"1\" class=\"dataframe\">\n",
       "  <thead>\n",
       "    <tr style=\"text-align: right;\">\n",
       "      <th></th>\n",
       "      <th>label</th>\n",
       "      <th>p</th>\n",
       "      <th>text</th>\n",
       "    </tr>\n",
       "  </thead>\n",
       "  <tbody>\n",
       "    <tr>\n",
       "      <th>8488</th>\n",
       "      <td>0</td>\n",
       "      <td>0.997479</td>\n",
       "      <td>By the time this film was released I had seen Chorus Line on stage 4 times, and had been anticipating most eagerly the long-rumored production of a film of the story. My wife and I were in line hours before the box office opened on the day the film was released. It was not just a disappointment, it was a kick in the abdomen. &lt;br /&gt;&lt;br /&gt;First, the story was \"moved outside,\" so to speak, by including scenes not in the confines of the theater. Those confines are a large portion of the meaning and impact of the story. &lt;br /&gt;&lt;br /&gt;Second &amp; Third together (assign your own order): one of the original songs, with very dynamic dance number, was removed; a song which was NOT in the stage production was added. Say what ?? I'm confused! &lt;br /&gt;&lt;br /&gt;The only reason I gave this film 2 stars instead of 1 is my admiration for the talent and hard work of the performers. I've now seen Chorus Line on stage 6 times, and wouldn't mind seeing it 6 more times before I die. It is superbly written, with wonderful music, and heart- wrenchingly true stories. If you want to see a musical which includes a great \"cattle call\" audition, I recommend All That Jazz. If you want to see the story of A Chorus Line, see it on stage.</td>\n",
       "    </tr>\n",
       "    <tr>\n",
       "      <th>4198</th>\n",
       "      <td>0</td>\n",
       "      <td>0.995864</td>\n",
       "      <td>WARNING!!! SOME POSSIBLE PLOT SPOILERS, AS IF THAT WAS POSSIBLE!!!&lt;br /&gt;&lt;br /&gt;Okay, if you haven't figured out the plot yet, I am going to give it to you. Two couples head out to a camping site, but a clown masked killer shows up and causes all sorts of mayhem.&lt;br /&gt;&lt;br /&gt;Now it is time for me to give these couples some advice.&lt;br /&gt;&lt;br /&gt;1. Never, ever go to camp dubbed Camp Blood by the locals. 2. Don't have sex or make out in front of the killer. 3. Don't go chasing after the killer if he or she runs away. 4. Don't yell profanity at the killer. 5. Make sure your cellular phone works before you go camping. 6. Everybody needs to bring a sharp or dangerous weapon and carry it on themselves at all times. 7. Wear loose and comfortable clothing and bring a good pair of running shoes. No tight and binding clothing and no high heels or sandals. 8. Wear glasses or contact lenses if you need them so you don't stab the wrong person. 9. Always carry your car keys on you. 10. Put out a camp fire when you go to bed. 11. Watch your step. If you trip on something, your going to break a bone. 12. Check the backseat for uninvited guess. 13. If the killer has you cornered, at least put up a struggle.&lt;br /&gt;&lt;br /&gt;And guess what? At least one, but usually all four of the main characters breaks all of these common sense rules. They are the dumbest characters ever to grace a film.&lt;br /&gt;&lt;br /&gt;Now for some brief comments. This slasher film was on a very tight budget. So low four of the 7 or 8 actors play more than one role. The acting, writing, direction, sound, lighting, camera work, plotting, editing, etc. are all bottom of the line. But like the classic film JACK O this works on a sooooooooo bad, it is very entertaining and campy fun level. So rent this and have a good time and laugh. My rating: 5 out of 10.</td>\n",
       "    </tr>\n",
       "    <tr>\n",
       "      <th>5215</th>\n",
       "      <td>0</td>\n",
       "      <td>0.994108</td>\n",
       "      <td>A young doctor and his wife are suddenly expecting a child. Both are disturbed about a two hour memory lapse on the night of conception. Interesting twist on an hackneyed story. Very good F/X and interesting editing. Jillian McWhirter is outstanding in a cast that features Arnold Vosloo, Wilford Brimley and Brad Dourif. Brimley brings normalcy to the outlandish. Kudos to director Brian Yuzna.</td>\n",
       "    </tr>\n",
       "    <tr>\n",
       "      <th>3737</th>\n",
       "      <td>0</td>\n",
       "      <td>0.992040</td>\n",
       "      <td>I first rented this movie on the infamous day of September 11, 2001. Since then I've seen it a number of times. My only complaint is that it's too short. \"Strangeland\" would've be a complete piece of horror art at two hours. As it stands, the running time is only an hour and a half.&lt;br /&gt;&lt;br /&gt;Ex-Twisted Sister member Dee Snider wrote, produced and stars in this 1998 shockfest set in a small Colorado town. He plays Carleton Hendricks, a crazed sadist who has psychotic ideologies on human evolution and a love for near-death experiences. Hendricks is no pushover, he's a pumped up six-foot \"modern primitive\". Someone who has tattooed and pierced their body to the very extreme. When he makes his first full appearance in the film, it is a truly terrifying sight.&lt;br /&gt;&lt;br /&gt;Hendricks' main hobby in life is to share his \"spiritual awakenings\" with his kidnapped victims. He visits Internet chatrooms under the name \"Capt. Howdy\" and then invites people over to his house. They believe they're going to a party. Instead, they find themselves in a house of pain and suffering. Hendricks sows their eyes and mouths shut and tortures them by sticking blades and hooks in numerous parts of their body. If it sounds sick, it's because it is.&lt;br /&gt;&lt;br /&gt;One of Hendrick's victims is Genevieve, the teenaged daughter of detective Michael Gage. Gage not only manages to save her, but arrests Hendricks as well. Four years later, Hendricks is released from a mental institution completely rehabilitated to the disapproval of the community. A group of rednecks led by Freddy Krueger himself, actor Robert Englund, decide to kill him. They fail and Hendricks reverts back to his old self.&lt;br /&gt;&lt;br /&gt;The rest of the film I'll leave to you, only to say the conclusion is satisfying and will leave you in shivers. With the exception of Snider, the acting isn't too good, but it's serviceable. The direction is okay, too. There are some humorous parts in \"Strangeland\" and they are very funny. I also loved the soundtrack, it's awesome and worth buying if you love rock. Overall, this is a movie worth watching. If you love low-budget horror films with a sense of humor, check it out. You'll probably like it.</td>\n",
       "    </tr>\n",
       "    <tr>\n",
       "      <th>8260</th>\n",
       "      <td>0</td>\n",
       "      <td>0.991109</td>\n",
       "      <td>The five or so really good westerns that Mann made are unequaled as an ensemble in Hollywood. Even John Ford never made that many with so much quality. The curious thing about them all is how uneven they are. Ford's My Darling Clementine is worth about two and a half of any of them. Or at least two. &lt;br /&gt;&lt;br /&gt;The real hero of them besides Mann and Stewart is Chase. Chase being responsible for the brilliant Red River. Chase wrote far country, bend of the river, and probably some others. But none of them are as finished as My Darling Clementine, but then very few films, western or otherwise are. &lt;br /&gt;&lt;br /&gt;Each of the five films of Mann have huge gaps, or is it six, lets see. Bend, Far, Man of the West, Furies, Winchester 73, and yep, six, Naked Spur. Each have magnificent scene after magnificent scene, with fairly glaring lapses. Yet so does Red River, which is still the single greatest western ever made. So perfection isn't everything. &lt;br /&gt;&lt;br /&gt;But The Far Country has huge, huge holes. It's mawkish, and really comes alive only when Stewart and Mc Entire are locking horns. The rest is pretty pedestrian, with the usual exception of Mann's camera. Mann's camera is a one man course in cinematography. It is about as good an eye as anybody who ever got behind a strip of moving film. It is almost never in the wrong place, never. &lt;br /&gt;&lt;br /&gt;The Far Country has one amazing moment. And as usual it comes from Stewart. Nobody in the history of cinema ever received physical punishment with the authority of that man. He is absolutely amazing: look at him in Bend, Far, Winchester, and Man from Laramie: in Bend has been beaten up and is hanging by a thread so believably and with such boiling hatred he looks like somebody displaced from Dachau, in Far he is shot off a raft with such violence, it looks so convincing that you wince, and of course when he is dragged through the fire in Man, well you find yourself looking for the burn marks. What an actor. Not to mention the moment in Winchester when he is beaten up early in the hotel room, also as well as anybody ever did it. &lt;br /&gt;&lt;br /&gt;But that was Mann's territory: look at Gary Cooper fighting with Jack Lord in Man of the West. As painful as any fight scene ever recorded. Cooper while not being quite as convincing as Stewart, nevertheless is somehow his equal in looking exhausted at the end of the fight. In short, nobody but nobody but nobody ever showed the human being in extremis as well as Mann. &lt;br /&gt;&lt;br /&gt;What a great, great director. &lt;br /&gt;&lt;br /&gt;See every western he ever made. They are his real monuments, even if all are scetchy. But so what. When he gets roaring with his great scenes they are as good as anybody, including Ford. And his six westerns as an ensemble are the best ever done by anyone, period.&lt;br /&gt;&lt;br /&gt;Thanks, Anthony.</td>\n",
       "    </tr>\n",
       "    <tr>\n",
       "      <th>6842</th>\n",
       "      <td>0</td>\n",
       "      <td>0.990948</td>\n",
       "      <td>I hesitated seeing this movie, having really enjoyed the original, 'Mostly Martha'. What a disappointment. Catherine Zeta Jones is a good actress but this wasn't her film. The original had poignant moments, perfectly punctuated with an incredible soundtrack. No reservations felt like it never connected. The food, the characters - nothing felt passionate. In Mostly Martha, the food came alive- every scene was filmed in such a way you could taste it with your eyes - the smells, the textures. The food in 'No Reservations' was in the background - rarely did we get a closeup of the preparation; the characters were not real enough to carry the movie without it. It was hard finishing the movie - many of the scenes felt awkward. See the original - it's a truly enjoyable movie; the soundtrack incredible.</td>\n",
       "    </tr>\n",
       "    <tr>\n",
       "      <th>711</th>\n",
       "      <td>0</td>\n",
       "      <td>0.990695</td>\n",
       "      <td>this film has it all; the deft camera work, reminiscent of martin scorcese, or oliver stone, the tight acting of 'heat', the explosive action of a jerry bruckheimer movie, the witty dialogue of a tarantino script and the epic feel of say, 'the godfather'&lt;br /&gt;&lt;br /&gt;the judge reinhold character displays a fiery temperememt, yet also shows real emotional depth and intensity. his performance reminds me of robert de niro's portrayal of jake la motta in raging bull.&lt;br /&gt;&lt;br /&gt;the action scenes are truly breathtaking, not since bullit has a movie depicted such high octane, yet stylish car scenes. The special effects push the boundries of technology and filmmaking to their limits. Independance day set the standard that this movie clearly has matched, and greatly surpassed.&lt;br /&gt;&lt;br /&gt;overall, great acting from its a list cast (like an oscars night party invitation list!), classy locations, gripping action, and a tight script.</td>\n",
       "    </tr>\n",
       "    <tr>\n",
       "      <th>4301</th>\n",
       "      <td>0</td>\n",
       "      <td>0.989873</td>\n",
       "      <td>I think that my favorite part of this movie, the one that exemplifies the sheer pointless, stupidity and inanity of the proceedings, comes at the climax of the film. DOCTOR TED NELSON and his unmarried friend the Sheriff have finally cornered the Melting Man on a landing on some stairs in an electrical generating plant. Keep in mind that Nelson has been looking for the MM for nearly the entire film, and that the MM has killed and eaten several people at this point (including his boss), and Nelson is very aware that MM is violently insane and hungry for human flesh and blood.&lt;br /&gt;&lt;br /&gt;So the Sheriff has his gun pointed at MM, who is, and I give the movie and Rick Baker props for this, the most disgusting and terrifying object in human form that we have ever seen. And he yells a very important question to DOCTOR TED NELSON: \"WHAT DO WE DO NOW?!?!?\" &lt;br /&gt;&lt;br /&gt;The camera cuts over to DOCTOR TED NELSON, and it's obvious that Ted has no idea what to do next. Apparently Ted was so intent on the problem of FINDING the Melting Man, he never thought to bring along some restraining devices, a lasso, or straitjacket, or a net, or some tranquilizer darts, or maybe a New Age tape by Vangelis to soothe the savage beast.&lt;br /&gt;&lt;br /&gt;So the sheriff panics and shoots, the Melting Man goes berserk, and hilarity ensues. &lt;br /&gt;&lt;br /&gt;Maybe this explains why NASA has been screwing around with the Space Shuttle program in sub-lunar space for the last 30 years instead of going back to the Moon or out to Mars like everyone knows they OUGHT to be doing. I dunno.&lt;br /&gt;&lt;br /&gt;Anyway, that's the kind of lousy, lazy writing and direction that undercuts every aspect of this movie. It's hard to say how good the actors actually are, because the movie has complete contempt for their characters.&lt;br /&gt;&lt;br /&gt;Two other incredibly painful sequences also ramp up the stupidity of the proceedings: There is a scene featuring the lumpiest old couple in the world trying to steal lemons from a grove, only to be torn apart by the Melting Man. This scene is a nadir in 70s cinema. I can guarantee you've never watched a more pointless and irritating setup with odder looking people in your entire life. And the Melting Man's assault on the lady who lives in the house where they keep a horse who pees on the walls defies every attempt to process it.(BTW, I think famous film director Jonathon Demme has a walk-on in this scene as the redneck husband who goes in first to check on the house and never comes out again). The only thing that keeps the actress from literally chewing the scenery is that, as I said, their horse has apparently been peeing on it. And we are forced to watch her hysterics for at least two minutes longer than any SANE film director would hold the shot. &lt;br /&gt;&lt;br /&gt;Burr DeBenning ought to beat the crap out of IMM's director and photographer. I remember him from an old Columbo episode where he looked MUCH better than he does here - no one's idea of a leading man, but solid and unobtrusive. But no one could possibly be as unappealing in real life as his director makes him look here. &lt;br /&gt;&lt;br /&gt;Everyone else comes off a little better except for the old couple (and shut up, I know they were being played for laughs, but I ain't laughing!) but not much. &lt;br /&gt;&lt;br /&gt;This definitely falls into the 'So Bad You Can't Look Away' category of cinema disasters. Still, I'd watch it again before I'd watch a lot of other 70's and 80's abortions ( \"Track of The Moonbeast\" and \"It Lives By Night\" come to mind), and MST's coverage of it is great fun, so if you get a chance, watch the MST version.</td>\n",
       "    </tr>\n",
       "    <tr>\n",
       "      <th>1369</th>\n",
       "      <td>0</td>\n",
       "      <td>0.989630</td>\n",
       "      <td>This solid little horror film is actually one of Renny Harlin's best. The story is pretty routine stuff, but the atmosphere is what really makes it come alive; in fact, the ghost story is almost an afterthought. The real horror comes from the prison setting itself, and Renny H. spares no detail in showing us how bad the conditions are inside that crumbling, leaking, rat-infested old hellhole (with a sadistic warden, too!) Viggo Mortensen is excellent as usual in the lead role, supported by some very authentic-looking prisoners (there are no pretty boys in this cast.) Horror fans should check this one out.</td>\n",
       "    </tr>\n",
       "    <tr>\n",
       "      <th>940</th>\n",
       "      <td>0</td>\n",
       "      <td>0.989594</td>\n",
       "      <td>A combat veteran, fresh from completion of ninjutsu training, reunites with an old friend in Manila and gets caught up in a power struggle with a ruthless land baron.&lt;br /&gt;&lt;br /&gt;But, do you really care about that? If you're even reading this page, you must know something of what to expect. It's your typical chop-socky, complete with ridiculous dialouge, mega-corny villains, apocalyptic sound editing, and a camera that begs for your attention. The only reason for being seen in public with this film is the fight sequences, wonderfully choreographed by Mike Stone and true master Sho Kosugi. Franco Nero ain't no slouch either, assuming you can see around the mustache.&lt;br /&gt;&lt;br /&gt;Well, I'm being too harsh. There are some good laughs--enjoy Christopher George repeatedly screaming \"Ninja!\" and delivering arguably the goofiest death scene ever captured on film.</td>\n",
       "    </tr>\n",
       "  </tbody>\n",
       "</table>\n",
       "</div>"
      ],
      "text/plain": [
       "      label         p  \\\n",
       "8488  0      0.997479   \n",
       "4198  0      0.995864   \n",
       "5215  0      0.994108   \n",
       "3737  0      0.992040   \n",
       "8260  0      0.991109   \n",
       "6842  0      0.990948   \n",
       "711   0      0.990695   \n",
       "4301  0      0.989873   \n",
       "1369  0      0.989630   \n",
       "940   0      0.989594   \n",
       "\n",
       "                                                                                                                                                                                                                                                                                                                                                                                                                                                                                                                                                                                                                                                                                                                                                                                                                                                                                                                                                                                                                                                                                                                                                                                                                                                                                                                                                                                                                                                                                                                                                                                                                                                                                                                                                                                                                                                                                                                                                                                                                                                                                                                                                                                                                                                                                                                                                                                                                                                                                                                                                                                                                                                                                                                                                                                                                                                                                                                                                                                                                                                                                                                                                                                                                                                                                                                                                                                                                                                                                                                                                                                                                                                                                                                                                          text  \n",
       "8488  By the time this film was released I had seen Chorus Line on stage 4 times, and had been anticipating most eagerly the long-rumored production of a film of the story. My wife and I were in line hours before the box office opened on the day the film was released. It was not just a disappointment, it was a kick in the abdomen. <br /><br />First, the story was \"moved outside,\" so to speak, by including scenes not in the confines of the theater. Those confines are a large portion of the meaning and impact of the story. <br /><br />Second & Third together (assign your own order): one of the original songs, with very dynamic dance number, was removed; a song which was NOT in the stage production was added. Say what ?? I'm confused! <br /><br />The only reason I gave this film 2 stars instead of 1 is my admiration for the talent and hard work of the performers. I've now seen Chorus Line on stage 6 times, and wouldn't mind seeing it 6 more times before I die. It is superbly written, with wonderful music, and heart- wrenchingly true stories. If you want to see a musical which includes a great \"cattle call\" audition, I recommend All That Jazz. If you want to see the story of A Chorus Line, see it on stage.                                                                                                                                                                                                                                                                                                                                                                                                                                                                                                                                                                                                                                                                                                                                                                                                                                                                                                                                                                                                                                                                                                                                                                                                                                                                                                                                                                                                                                                                                                                                                                                                                                                                                                                                                                                                                                                                                                                                                                                                                                                                                                                                                                                                                                                                                                                                                                                                                                                                                           \n",
       "4198  WARNING!!! SOME POSSIBLE PLOT SPOILERS, AS IF THAT WAS POSSIBLE!!!<br /><br />Okay, if you haven't figured out the plot yet, I am going to give it to you. Two couples head out to a camping site, but a clown masked killer shows up and causes all sorts of mayhem.<br /><br />Now it is time for me to give these couples some advice.<br /><br />1. Never, ever go to camp dubbed Camp Blood by the locals. 2. Don't have sex or make out in front of the killer. 3. Don't go chasing after the killer if he or she runs away. 4. Don't yell profanity at the killer. 5. Make sure your cellular phone works before you go camping. 6. Everybody needs to bring a sharp or dangerous weapon and carry it on themselves at all times. 7. Wear loose and comfortable clothing and bring a good pair of running shoes. No tight and binding clothing and no high heels or sandals. 8. Wear glasses or contact lenses if you need them so you don't stab the wrong person. 9. Always carry your car keys on you. 10. Put out a camp fire when you go to bed. 11. Watch your step. If you trip on something, your going to break a bone. 12. Check the backseat for uninvited guess. 13. If the killer has you cornered, at least put up a struggle.<br /><br />And guess what? At least one, but usually all four of the main characters breaks all of these common sense rules. They are the dumbest characters ever to grace a film.<br /><br />Now for some brief comments. This slasher film was on a very tight budget. So low four of the 7 or 8 actors play more than one role. The acting, writing, direction, sound, lighting, camera work, plotting, editing, etc. are all bottom of the line. But like the classic film JACK O this works on a sooooooooo bad, it is very entertaining and campy fun level. So rent this and have a good time and laugh. My rating: 5 out of 10.                                                                                                                                                                                                                                                                                                                                                                                                                                                                                                                                                                                                                                                                                                                                                                                                                                                                                                                                                                                                                                                                                                                                                                                                                                                                                                                                                                                                                                                                                                                                                                                                                                                                                                                                                                                                                                                               \n",
       "5215  A young doctor and his wife are suddenly expecting a child. Both are disturbed about a two hour memory lapse on the night of conception. Interesting twist on an hackneyed story. Very good F/X and interesting editing. Jillian McWhirter is outstanding in a cast that features Arnold Vosloo, Wilford Brimley and Brad Dourif. Brimley brings normalcy to the outlandish. Kudos to director Brian Yuzna.                                                                                                                                                                                                                                                                                                                                                                                                                                                                                                                                                                                                                                                                                                                                                                                                                                                                                                                                                                                                                                                                                                                                                                                                                                                                                                                                                                                                                                                                                                                                                                                                                                                                                                                                                                                                                                                                                                                                                                                                                                                                                                                                                                                                                                                                                                                                                                                                                                                                                                                                                                                                                                                                                                                                                                                                                                                                                                                                                                                                                                                                                                                                                                                                                                                                                                                                               \n",
       "3737  I first rented this movie on the infamous day of September 11, 2001. Since then I've seen it a number of times. My only complaint is that it's too short. \"Strangeland\" would've be a complete piece of horror art at two hours. As it stands, the running time is only an hour and a half.<br /><br />Ex-Twisted Sister member Dee Snider wrote, produced and stars in this 1998 shockfest set in a small Colorado town. He plays Carleton Hendricks, a crazed sadist who has psychotic ideologies on human evolution and a love for near-death experiences. Hendricks is no pushover, he's a pumped up six-foot \"modern primitive\". Someone who has tattooed and pierced their body to the very extreme. When he makes his first full appearance in the film, it is a truly terrifying sight.<br /><br />Hendricks' main hobby in life is to share his \"spiritual awakenings\" with his kidnapped victims. He visits Internet chatrooms under the name \"Capt. Howdy\" and then invites people over to his house. They believe they're going to a party. Instead, they find themselves in a house of pain and suffering. Hendricks sows their eyes and mouths shut and tortures them by sticking blades and hooks in numerous parts of their body. If it sounds sick, it's because it is.<br /><br />One of Hendrick's victims is Genevieve, the teenaged daughter of detective Michael Gage. Gage not only manages to save her, but arrests Hendricks as well. Four years later, Hendricks is released from a mental institution completely rehabilitated to the disapproval of the community. A group of rednecks led by Freddy Krueger himself, actor Robert Englund, decide to kill him. They fail and Hendricks reverts back to his old self.<br /><br />The rest of the film I'll leave to you, only to say the conclusion is satisfying and will leave you in shivers. With the exception of Snider, the acting isn't too good, but it's serviceable. The direction is okay, too. There are some humorous parts in \"Strangeland\" and they are very funny. I also loved the soundtrack, it's awesome and worth buying if you love rock. Overall, this is a movie worth watching. If you love low-budget horror films with a sense of humor, check it out. You'll probably like it.                                                                                                                                                                                                                                                                                                                                                                                                                                                                                                                                                                                                                                                                                                                                                                                                                                                                                                                                                                                                                                                                                                                                                                                                                                                                                                                                                                                                                                                                   \n",
       "8260  The five or so really good westerns that Mann made are unequaled as an ensemble in Hollywood. Even John Ford never made that many with so much quality. The curious thing about them all is how uneven they are. Ford's My Darling Clementine is worth about two and a half of any of them. Or at least two. <br /><br />The real hero of them besides Mann and Stewart is Chase. Chase being responsible for the brilliant Red River. Chase wrote far country, bend of the river, and probably some others. But none of them are as finished as My Darling Clementine, but then very few films, western or otherwise are. <br /><br />Each of the five films of Mann have huge gaps, or is it six, lets see. Bend, Far, Man of the West, Furies, Winchester 73, and yep, six, Naked Spur. Each have magnificent scene after magnificent scene, with fairly glaring lapses. Yet so does Red River, which is still the single greatest western ever made. So perfection isn't everything. <br /><br />But The Far Country has huge, huge holes. It's mawkish, and really comes alive only when Stewart and Mc Entire are locking horns. The rest is pretty pedestrian, with the usual exception of Mann's camera. Mann's camera is a one man course in cinematography. It is about as good an eye as anybody who ever got behind a strip of moving film. It is almost never in the wrong place, never. <br /><br />The Far Country has one amazing moment. And as usual it comes from Stewart. Nobody in the history of cinema ever received physical punishment with the authority of that man. He is absolutely amazing: look at him in Bend, Far, Winchester, and Man from Laramie: in Bend has been beaten up and is hanging by a thread so believably and with such boiling hatred he looks like somebody displaced from Dachau, in Far he is shot off a raft with such violence, it looks so convincing that you wince, and of course when he is dragged through the fire in Man, well you find yourself looking for the burn marks. What an actor. Not to mention the moment in Winchester when he is beaten up early in the hotel room, also as well as anybody ever did it. <br /><br />But that was Mann's territory: look at Gary Cooper fighting with Jack Lord in Man of the West. As painful as any fight scene ever recorded. Cooper while not being quite as convincing as Stewart, nevertheless is somehow his equal in looking exhausted at the end of the fight. In short, nobody but nobody but nobody ever showed the human being in extremis as well as Mann. <br /><br />What a great, great director. <br /><br />See every western he ever made. They are his real monuments, even if all are scetchy. But so what. When he gets roaring with his great scenes they are as good as anybody, including Ford. And his six westerns as an ensemble are the best ever done by anyone, period.<br /><br />Thanks, Anthony.                                                                                                                                                                                                                                                                                                                                                                                                                                                                                                                                                                                                                                                                                                                                                                                                             \n",
       "6842  I hesitated seeing this movie, having really enjoyed the original, 'Mostly Martha'. What a disappointment. Catherine Zeta Jones is a good actress but this wasn't her film. The original had poignant moments, perfectly punctuated with an incredible soundtrack. No reservations felt like it never connected. The food, the characters - nothing felt passionate. In Mostly Martha, the food came alive- every scene was filmed in such a way you could taste it with your eyes - the smells, the textures. The food in 'No Reservations' was in the background - rarely did we get a closeup of the preparation; the characters were not real enough to carry the movie without it. It was hard finishing the movie - many of the scenes felt awkward. See the original - it's a truly enjoyable movie; the soundtrack incredible.                                                                                                                                                                                                                                                                                                                                                                                                                                                                                                                                                                                                                                                                                                                                                                                                                                                                                                                                                                                                                                                                                                                                                                                                                                                                                                                                                                                                                                                                                                                                                                                                                                                                                                                                                                                                                                                                                                                                                                                                                                                                                                                                                                                                                                                                                                                                                                                                                                                                                                                                                                                                                                                                                                                                                                                                                                                                                                                    \n",
       "711   this film has it all; the deft camera work, reminiscent of martin scorcese, or oliver stone, the tight acting of 'heat', the explosive action of a jerry bruckheimer movie, the witty dialogue of a tarantino script and the epic feel of say, 'the godfather'<br /><br />the judge reinhold character displays a fiery temperememt, yet also shows real emotional depth and intensity. his performance reminds me of robert de niro's portrayal of jake la motta in raging bull.<br /><br />the action scenes are truly breathtaking, not since bullit has a movie depicted such high octane, yet stylish car scenes. The special effects push the boundries of technology and filmmaking to their limits. Independance day set the standard that this movie clearly has matched, and greatly surpassed.<br /><br />overall, great acting from its a list cast (like an oscars night party invitation list!), classy locations, gripping action, and a tight script.                                                                                                                                                                                                                                                                                                                                                                                                                                                                                                                                                                                                                                                                                                                                                                                                                                                                                                                                                                                                                                                                                                                                                                                                                                                                                                                                                                                                                                                                                                                                                                                                                                                                                                                                                                                                                                                                                                                                                                                                                                                                                                                                                                                                                                                                                                                                                                                                                                                                                                                                                                                                                                                                                                                                                                                     \n",
       "4301  I think that my favorite part of this movie, the one that exemplifies the sheer pointless, stupidity and inanity of the proceedings, comes at the climax of the film. DOCTOR TED NELSON and his unmarried friend the Sheriff have finally cornered the Melting Man on a landing on some stairs in an electrical generating plant. Keep in mind that Nelson has been looking for the MM for nearly the entire film, and that the MM has killed and eaten several people at this point (including his boss), and Nelson is very aware that MM is violently insane and hungry for human flesh and blood.<br /><br />So the Sheriff has his gun pointed at MM, who is, and I give the movie and Rick Baker props for this, the most disgusting and terrifying object in human form that we have ever seen. And he yells a very important question to DOCTOR TED NELSON: \"WHAT DO WE DO NOW?!?!?\" <br /><br />The camera cuts over to DOCTOR TED NELSON, and it's obvious that Ted has no idea what to do next. Apparently Ted was so intent on the problem of FINDING the Melting Man, he never thought to bring along some restraining devices, a lasso, or straitjacket, or a net, or some tranquilizer darts, or maybe a New Age tape by Vangelis to soothe the savage beast.<br /><br />So the sheriff panics and shoots, the Melting Man goes berserk, and hilarity ensues. <br /><br />Maybe this explains why NASA has been screwing around with the Space Shuttle program in sub-lunar space for the last 30 years instead of going back to the Moon or out to Mars like everyone knows they OUGHT to be doing. I dunno.<br /><br />Anyway, that's the kind of lousy, lazy writing and direction that undercuts every aspect of this movie. It's hard to say how good the actors actually are, because the movie has complete contempt for their characters.<br /><br />Two other incredibly painful sequences also ramp up the stupidity of the proceedings: There is a scene featuring the lumpiest old couple in the world trying to steal lemons from a grove, only to be torn apart by the Melting Man. This scene is a nadir in 70s cinema. I can guarantee you've never watched a more pointless and irritating setup with odder looking people in your entire life. And the Melting Man's assault on the lady who lives in the house where they keep a horse who pees on the walls defies every attempt to process it.(BTW, I think famous film director Jonathon Demme has a walk-on in this scene as the redneck husband who goes in first to check on the house and never comes out again). The only thing that keeps the actress from literally chewing the scenery is that, as I said, their horse has apparently been peeing on it. And we are forced to watch her hysterics for at least two minutes longer than any SANE film director would hold the shot. <br /><br />Burr DeBenning ought to beat the crap out of IMM's director and photographer. I remember him from an old Columbo episode where he looked MUCH better than he does here - no one's idea of a leading man, but solid and unobtrusive. But no one could possibly be as unappealing in real life as his director makes him look here. <br /><br />Everyone else comes off a little better except for the old couple (and shut up, I know they were being played for laughs, but I ain't laughing!) but not much. <br /><br />This definitely falls into the 'So Bad You Can't Look Away' category of cinema disasters. Still, I'd watch it again before I'd watch a lot of other 70's and 80's abortions ( \"Track of The Moonbeast\" and \"It Lives By Night\" come to mind), and MST's coverage of it is great fun, so if you get a chance, watch the MST version.  \n",
       "1369  This solid little horror film is actually one of Renny Harlin's best. The story is pretty routine stuff, but the atmosphere is what really makes it come alive; in fact, the ghost story is almost an afterthought. The real horror comes from the prison setting itself, and Renny H. spares no detail in showing us how bad the conditions are inside that crumbling, leaking, rat-infested old hellhole (with a sadistic warden, too!) Viggo Mortensen is excellent as usual in the lead role, supported by some very authentic-looking prisoners (there are no pretty boys in this cast.) Horror fans should check this one out.                                                                                                                                                                                                                                                                                                                                                                                                                                                                                                                                                                                                                                                                                                                                                                                                                                                                                                                                                                                                                                                                                                                                                                                                                                                                                                                                                                                                                                                                                                                                                                                                                                                                                                                                                                                                                                                                                                                                                                                                                                                                                                                                                                                                                                                                                                                                                                                                                                                                                                                                                                                                                                                                                                                                                                                                                                                                                                                                                                                                                                                                                                                      \n",
       "940   A combat veteran, fresh from completion of ninjutsu training, reunites with an old friend in Manila and gets caught up in a power struggle with a ruthless land baron.<br /><br />But, do you really care about that? If you're even reading this page, you must know something of what to expect. It's your typical chop-socky, complete with ridiculous dialouge, mega-corny villains, apocalyptic sound editing, and a camera that begs for your attention. The only reason for being seen in public with this film is the fight sequences, wonderfully choreographed by Mike Stone and true master Sho Kosugi. Franco Nero ain't no slouch either, assuming you can see around the mustache.<br /><br />Well, I'm being too harsh. There are some good laughs--enjoy Christopher George repeatedly screaming \"Ninja!\" and delivering arguably the goofiest death scene ever captured on film.                                                                                                                                                                                                                                                                                                                                                                                                                                                                                                                                                                                                                                                                                                                                                                                                                                                                                                                                                                                                                                                                                                                                                                                                                                                                                                                                                                                                                                                                                                                                                                                                                                                                                                                                                                                                                                                                                                                                                                                                                                                                                                                                                                                                                                                                                                                                                                                                                                                                                                                                                                                                                                                                                                                                                                                                                                                         "
      ]
     },
     "execution_count": 143,
     "metadata": {},
     "output_type": "execute_result"
    }
   ],
   "source": [
    "test_data[test_data['p'] > 0.9][test_data['label'] == 0][['label', 'p', 'text']].sort_values('p', ascending=False)[:10]"
   ]
  },
  {
   "cell_type": "markdown",
   "metadata": {},
   "source": [
    "#### Model sensitivity"
   ]
  },
  {
   "cell_type": "code",
   "execution_count": 98,
   "metadata": {
    "collapsed": false,
    "deletable": true,
    "editable": true
   },
   "outputs": [],
   "source": [
    "def lstm_predict(text):\n",
    "    return lstm_word2vec_google.predict(padding(text))[0][0]"
   ]
  },
  {
   "cell_type": "code",
   "execution_count": 109,
   "metadata": {
    "collapsed": false
   },
   "outputs": [
    {
     "data": {
      "text/plain": [
       "0.044665568"
      ]
     },
     "execution_count": 109,
     "metadata": {},
     "output_type": "execute_result"
    }
   ],
   "source": [
    "lstm_predict('good actors, but bad movie')"
   ]
  },
  {
   "cell_type": "code",
   "execution_count": 110,
   "metadata": {
    "collapsed": false
   },
   "outputs": [
    {
     "data": {
      "text/plain": [
       "0.071367212"
      ]
     },
     "execution_count": 110,
     "metadata": {},
     "output_type": "execute_result"
    }
   ],
   "source": [
    "lstm_predict('really good actors, but bad movie')"
   ]
  },
  {
   "cell_type": "code",
   "execution_count": 141,
   "metadata": {
    "collapsed": false
   },
   "outputs": [
    {
     "data": {
      "text/plain": [
       "0.010830084"
      ]
     },
     "execution_count": 141,
     "metadata": {},
     "output_type": "execute_result"
    }
   ],
   "source": [
    "lstm_predict('good actors, but really bad movie')"
   ]
  },
  {
   "cell_type": "markdown",
   "metadata": {
    "deletable": true,
    "editable": true
   },
   "source": [
    "## Save model"
   ]
  },
  {
   "cell_type": "code",
   "execution_count": 105,
   "metadata": {
    "collapsed": false,
    "deletable": true,
    "editable": true
   },
   "outputs": [],
   "source": [
    "# serialize model to JSON\n",
    "lstm_word2vec_google_json = lstm_word2vec_google.to_json()\n",
    "with open(MODEL_NAME + \".json\", \"w\") as json_file:\n",
    "    json_file.write(lstm_word2vec_google_json)"
   ]
  }
 ],
 "metadata": {
  "anaconda-cloud": {},
  "kernelspec": {
   "display_name": "Python [default]",
   "language": "python",
   "name": "python3"
  },
  "language_info": {
   "codemirror_mode": {
    "name": "ipython",
    "version": 3
   },
   "file_extension": ".py",
   "mimetype": "text/x-python",
   "name": "python",
   "nbconvert_exporter": "python",
   "pygments_lexer": "ipython3",
   "version": "3.5.2"
  }
 },
 "nbformat": 4,
 "nbformat_minor": 1
}
