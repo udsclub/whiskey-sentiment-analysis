{
 "cells": [
  {
   "cell_type": "markdown",
   "metadata": {
    "deletable": true,
    "editable": true
   },
   "source": [
    "# Test model"
   ]
  },
  {
   "cell_type": "code",
   "execution_count": 1,
   "metadata": {
    "collapsed": true,
    "deletable": true,
    "editable": true
   },
   "outputs": [],
   "source": [
    "MODEL_NAME = \"models/lstm_word2vec\"\n",
    "TEST_DATASET = \"data/test_imdb.csv\"\n",
    "\n",
    "TOKENIZER_NAME = \"models/lstm_word2vec_tokenizer\""
   ]
  },
  {
   "cell_type": "markdown",
   "metadata": {
    "deletable": true,
    "editable": true
   },
   "source": [
    "---"
   ]
  },
  {
   "cell_type": "code",
   "execution_count": 3,
   "metadata": {
    "collapsed": false,
    "deletable": true,
    "editable": true,
    "scrolled": true
   },
   "outputs": [
    {
     "name": "stderr",
     "output_type": "stream",
     "text": [
      "Using TensorFlow backend.\n"
     ]
    }
   ],
   "source": [
    "import nltk\n",
    "import numpy\n",
    "import pickle\n",
    "numpy.random.seed(42)\n",
    "\n",
    "nltk.data.path.insert(0, \"/dvl/w3/wn/data/.nltk_data\")\n",
    "\n",
    "from nltk.corpus import stopwords\n",
    "import pandas as pd\n",
    "import numpy as np\n",
    "from itertools import chain\n",
    "from collections import Counter\n",
    "\n",
    "\n",
    "from keras.preprocessing.text import Tokenizer\n",
    "from keras.preprocessing.sequence import pad_sequences\n",
    "from keras.utils.np_utils import to_categorical\n",
    "from keras.models import model_from_json"
   ]
  },
  {
   "cell_type": "markdown",
   "metadata": {
    "deletable": true,
    "editable": true
   },
   "source": [
    "Swith on full text mode)"
   ]
  },
  {
   "cell_type": "code",
   "execution_count": 4,
   "metadata": {
    "collapsed": false,
    "deletable": true,
    "editable": true
   },
   "outputs": [],
   "source": [
    "pd.options.display.max_colwidth = -1"
   ]
  },
  {
   "cell_type": "markdown",
   "metadata": {
    "deletable": true,
    "editable": true
   },
   "source": [
    "## Load data"
   ]
  },
  {
   "cell_type": "code",
   "execution_count": 5,
   "metadata": {
    "collapsed": true,
    "deletable": true,
    "editable": true
   },
   "outputs": [],
   "source": [
    "test_data = pd.read_csv(TEST_DATASET, sep=\"|\")"
   ]
  },
  {
   "cell_type": "markdown",
   "metadata": {
    "deletable": true,
    "editable": true
   },
   "source": [
    "## Preprocessing"
   ]
  },
  {
   "cell_type": "code",
   "execution_count": 6,
   "metadata": {
    "collapsed": true,
    "deletable": true,
    "editable": true
   },
   "outputs": [],
   "source": [
    "MAX_NB_WORDS = 20000\n",
    "MAX_SEQUENCE_LENGTH = 70"
   ]
  },
  {
   "cell_type": "code",
   "execution_count": 7,
   "metadata": {
    "collapsed": false,
    "deletable": true,
    "editable": true
   },
   "outputs": [],
   "source": [
    "from nltk.tokenize import TweetTokenizer\n",
    "tweet_tokenizer = TweetTokenizer()\n",
    "\n",
    "negatives = {\n",
    "    \"didn't\": \"didn_`_t\",\n",
    "    \"couldn't\": \"couldn_`_t\",\n",
    "    \"don't\": \"don_`_t\",\n",
    "    \"wouldn't\": \"wouldn_`_t\",\n",
    "    \"doesn't\": \"doesn_`_t\",\n",
    "    \"wasn't\": \"wasn_`_t\",\n",
    "    \"weren't\": \"weren_`_t\",\n",
    "    \"shouldn't\":\"shouldn_`_t\",\n",
    "    \"isn't\": \"isn_`_t\",\n",
    "    \"aren't\": \"aren_`_t\",\n",
    "}\n",
    "\n",
    "def preprocess(text):\n",
    "    text = text.lower()\n",
    "    text = text.replace('<br />', ' ')\n",
    "    text = ' '.join(tweet_tokenizer.tokenize(text))\n",
    "    for k, v in negatives.items():\n",
    "        text = text.replace(k, v)\n",
    "    return text"
   ]
  },
  {
   "cell_type": "code",
   "execution_count": 8,
   "metadata": {
    "collapsed": false,
    "deletable": true,
    "editable": true
   },
   "outputs": [],
   "source": [
    "test_data['prep_text'] = test_data['text'].map(preprocess)"
   ]
  },
  {
   "cell_type": "markdown",
   "metadata": {
    "deletable": true,
    "editable": true
   },
   "source": [
    "#### 1. String -> Int vector"
   ]
  },
  {
   "cell_type": "code",
   "execution_count": 9,
   "metadata": {
    "collapsed": false,
    "deletable": true,
    "editable": true
   },
   "outputs": [],
   "source": [
    " #load tokenizer\n",
    "pkl_file = open(TOKENIZER_NAME, 'rb')\n",
    "tokenizer = pickle.load(pkl_file)\n",
    "pkl_file.close()"
   ]
  },
  {
   "cell_type": "markdown",
   "metadata": {
    "deletable": true,
    "editable": true
   },
   "source": [
    "#### 2. Padding"
   ]
  },
  {
   "cell_type": "code",
   "execution_count": 10,
   "metadata": {
    "collapsed": false,
    "deletable": true,
    "editable": true
   },
   "outputs": [],
   "source": [
    "sequences_test = tokenizer.texts_to_sequences(test_data['prep_text'])\n",
    "\n",
    "padded_sequences_test = pad_sequences(sequences_test, maxlen=MAX_SEQUENCE_LENGTH)"
   ]
  },
  {
   "cell_type": "code",
   "execution_count": 59,
   "metadata": {
    "collapsed": false,
    "deletable": true,
    "editable": true
   },
   "outputs": [
    {
     "data": {
      "text/plain": [
       "array([[   11,     6,    87, ...,    55,    82,    17],\n",
       "       [10361,   182,   175, ...,     4,     1,   320],\n",
       "       [ 1375,     4,   492, ...,   149,   336,   556],\n",
       "       ..., \n",
       "       [   44,    21,   201, ...,    13,   417,  5907],\n",
       "       [  788, 19456,  4878, ...,     1,  6620,   181],\n",
       "       [   15,    64,  3913, ...,   957,     4,  2144]], dtype=int32)"
      ]
     },
     "execution_count": 59,
     "metadata": {},
     "output_type": "execute_result"
    }
   ],
   "source": [
    "padded_sequences_test"
   ]
  },
  {
   "cell_type": "code",
   "execution_count": 60,
   "metadata": {
    "collapsed": false,
    "deletable": true,
    "editable": true
   },
   "outputs": [
    {
     "data": {
      "text/plain": [
       "(10000, 70)"
      ]
     },
     "execution_count": 60,
     "metadata": {},
     "output_type": "execute_result"
    }
   ],
   "source": [
    "padded_sequences_test.shape"
   ]
  },
  {
   "cell_type": "code",
   "execution_count": 71,
   "metadata": {
    "collapsed": false,
    "deletable": true,
    "editable": true
   },
   "outputs": [
    {
     "data": {
      "text/plain": [
       "array([[   11,     6,    87, ...,    55,    82,    17],\n",
       "       [10361,   182,   175, ...,     4,     1,   320],\n",
       "       [ 1375,     4,   492, ...,   149,   336,   556],\n",
       "       ..., \n",
       "       [   11,     6,  1561, ...,     3,  1785,  4416],\n",
       "       [   38,     2,  4315, ...,    11,   338,   177],\n",
       "       [ 1825,    19,    96, ...,     3,     5,  1507]], dtype=int32)"
      ]
     },
     "execution_count": 71,
     "metadata": {},
     "output_type": "execute_result"
    }
   ],
   "source": [
    "padded_sequences_test[:100]"
   ]
  },
  {
   "cell_type": "code",
   "execution_count": 88,
   "metadata": {
    "collapsed": false,
    "deletable": true,
    "editable": true
   },
   "outputs": [
    {
     "data": {
      "text/plain": [
       "(10000, 70)"
      ]
     },
     "execution_count": 88,
     "metadata": {},
     "output_type": "execute_result"
    }
   ],
   "source": [
    "padded_sequences_test.shape"
   ]
  },
  {
   "cell_type": "code",
   "execution_count": 61,
   "metadata": {
    "collapsed": false,
    "deletable": true,
    "editable": true
   },
   "outputs": [
    {
     "data": {
      "text/plain": [
       "array([   11,     6,    87,     8,     6,    19,     1,  2116,  5349,\n",
       "        8931,    15,    44,    30,   953,    72,  9375,    97,    22,\n",
       "          36,  8644,     3,    23, 12342,  1428,   812,    37,   225,\n",
       "          26,    81,   129,  2892,    87,     5,   506,   102,    10,\n",
       "          62,    25,  5862,    14,   159,   706,  1711,    98,    67,\n",
       "          25,    52,    15,     1,   100,    26,     5,    25,  4387,\n",
       "           3,    56,    24,   979,    11, 13373,     7,     9,    17,\n",
       "           5,   285,     8,     2,    55,    82,    17], dtype=int32)"
      ]
     },
     "execution_count": 61,
     "metadata": {},
     "output_type": "execute_result"
    }
   ],
   "source": [
    "padded_sequences_test[0]"
   ]
  },
  {
   "cell_type": "code",
   "execution_count": 16,
   "metadata": {
    "collapsed": false,
    "deletable": true,
    "editable": true
   },
   "outputs": [
    {
     "data": {
      "text/plain": [
       "(1, 70)"
      ]
     },
     "execution_count": 16,
     "metadata": {},
     "output_type": "execute_result"
    }
   ],
   "source": [
    "np.array([np.hstack(([0], padded_sequences_test[0][:3], padded_sequences_test[0][4:]))]).shape"
   ]
  },
  {
   "cell_type": "code",
   "execution_count": 17,
   "metadata": {
    "collapsed": false,
    "deletable": true,
    "editable": true
   },
   "outputs": [
    {
     "data": {
      "text/plain": [
       "(70,)"
      ]
     },
     "execution_count": 17,
     "metadata": {},
     "output_type": "execute_result"
    }
   ],
   "source": [
    "list(generate(padded_sequences_test[:1]))[0].shape"
   ]
  },
  {
   "cell_type": "code",
   "execution_count": 27,
   "metadata": {
    "collapsed": false,
    "deletable": true,
    "editable": true
   },
   "outputs": [],
   "source": [
    "index_to_word = {index: word for word, index in tokenizer.word_index.items()}"
   ]
  },
  {
   "cell_type": "markdown",
   "metadata": {
    "deletable": true,
    "editable": true
   },
   "source": [
    "## Model"
   ]
  },
  {
   "cell_type": "code",
   "execution_count": 18,
   "metadata": {
    "collapsed": false,
    "deletable": true,
    "editable": true
   },
   "outputs": [
    {
     "name": "stdout",
     "output_type": "stream",
     "text": [
      "Loaded 'models/lstm_word2vec' model from disk\n"
     ]
    }
   ],
   "source": [
    "# load json and create model\n",
    "json_file = open(MODEL_NAME + '.json', 'r')\n",
    "loaded_model_json = json_file.read()\n",
    "json_file.close()\n",
    "loaded_model = model_from_json(loaded_model_json)\n",
    "\n",
    "# load weights into new model\n",
    "loaded_model.load_weights(MODEL_NAME + \".hdf5\")\n",
    "metrics=['accuracy', 'fmeasure', 'precision', 'recall']\n",
    "loaded_model.compile(loss='binary_crossentropy', optimizer='adam', metrics=metrics)\n",
    "print(\"Loaded '%s' model from disk\" % MODEL_NAME)"
   ]
  },
  {
   "cell_type": "code",
   "execution_count": 19,
   "metadata": {
    "collapsed": false,
    "deletable": true,
    "editable": true
   },
   "outputs": [
    {
     "name": "stdout",
     "output_type": "stream",
     "text": [
      "____________________________________________________________________________________________________\n",
      "Layer (type)                     Output Shape          Param #     Connected to                     \n",
      "====================================================================================================\n",
      "embedding_1 (Embedding)          (None, 70, 300)       6000000     embedding_input_1[0][0]          \n",
      "____________________________________________________________________________________________________\n",
      "bidirectional_1 (Bidirectional)  (None, 256)           439296      embedding_1[0][0]                \n",
      "____________________________________________________________________________________________________\n",
      "dropout_1 (Dropout)              (None, 256)           0           bidirectional_1[0][0]            \n",
      "____________________________________________________________________________________________________\n",
      "dense_1 (Dense)                  (None, 1)             257         dropout_1[0][0]                  \n",
      "====================================================================================================\n",
      "Total params: 6,439,553\n",
      "Trainable params: 439,553\n",
      "Non-trainable params: 6,000,000\n",
      "____________________________________________________________________________________________________\n"
     ]
    }
   ],
   "source": [
    "loaded_model.summary()"
   ]
  },
  {
   "cell_type": "code",
   "execution_count": 20,
   "metadata": {
    "collapsed": true,
    "deletable": true,
    "editable": true
   },
   "outputs": [],
   "source": [
    "def padding(text):\n",
    "    return pad_sequences(tokenizer.texts_to_sequences([text]), maxlen=MAX_SEQUENCE_LENGTH)"
   ]
  },
  {
   "cell_type": "code",
   "execution_count": 21,
   "metadata": {
    "collapsed": false,
    "deletable": true,
    "editable": true
   },
   "outputs": [],
   "source": [
    "def lstm_predict(text):\n",
    "    return loaded_model.predict(padding(preprocess(text)))[0][0]"
   ]
  },
  {
   "cell_type": "code",
   "execution_count": 22,
   "metadata": {
    "collapsed": false,
    "deletable": true,
    "editable": true
   },
   "outputs": [
    {
     "data": {
      "text/plain": [
       "0.65912336"
      ]
     },
     "execution_count": 22,
     "metadata": {},
     "output_type": "execute_result"
    }
   ],
   "source": [
    "lstm_predict(\"not bad\")"
   ]
  },
  {
   "cell_type": "code",
   "execution_count": 130,
   "metadata": {
    "collapsed": false,
    "deletable": true,
    "editable": true
   },
   "outputs": [
    {
     "data": {
      "text/plain": [
       "0.91656721"
      ]
     },
     "execution_count": 130,
     "metadata": {},
     "output_type": "execute_result"
    }
   ],
   "source": [
    "lstm_predict(\"good\")"
   ]
  },
  {
   "cell_type": "code",
   "execution_count": 116,
   "metadata": {
    "collapsed": true
   },
   "outputs": [],
   "source": [
    "def generate(sequence):\n",
    "    rez = []\n",
    "    for i in range(len(sequence)):\n",
    "        rez.append(np.hstack(([0], sequence[:i], sequence[i+1:])))\n",
    "    return np.array(rez)"
   ]
  },
  {
   "cell_type": "code",
   "execution_count": 25,
   "metadata": {
    "collapsed": true,
    "deletable": true,
    "editable": true
   },
   "outputs": [],
   "source": [
    "def predict(hacked):\n",
    "    return [p[0] for p in loaded_model.predict(hacked)]"
   ]
  },
  {
   "cell_type": "code",
   "execution_count": 93,
   "metadata": {
    "collapsed": true,
    "deletable": true,
    "editable": true
   },
   "outputs": [],
   "source": [
    "def compare(sequences, seq_preds):\n",
    "    word_scores = {}\n",
    "    for si, seq in enumerate(sequences):\n",
    "        \n",
    "        hacked = generate(seq) # 70x70\n",
    "        preds = predict(hacked)\n",
    "        \n",
    "        #70x1\n",
    "        for i, word in enumerate(seq):\n",
    "            \n",
    "            seq_score = seq_preds[si]\n",
    "            \n",
    "            if word not in word_scores:\n",
    "                word_scores[word] = []\n",
    "            \n",
    "            #word_scores[word].append((seq_score, preds[i], si))\n",
    "            word_scores[word].append((seq_score - preds[i], si))\n",
    "    \n",
    "    return word_scores"
   ]
  },
  {
   "cell_type": "code",
   "execution_count": 128,
   "metadata": {
    "collapsed": true
   },
   "outputs": [],
   "source": [
    "def seq_to_words(sequence):\n",
    "    result = []\n",
    "    for word_idx in sequence:\n",
    "        word = index_to_word.get(word_idx, \"NA\")\n",
    "        result.append(word)\n",
    "    return \" \".join(result)"
   ]
  },
  {
   "cell_type": "code",
   "execution_count": 154,
   "metadata": {
    "collapsed": false
   },
   "outputs": [],
   "source": [
    "def inspect_sample(sample_id):\n",
    "    sample = padded_sequences_test[sample_id]\n",
    "    pred = predict(np.array([sample]))[0]\n",
    "    hacked = generate(sample)\n",
    "    hacked_preds = predict(hacked)\n",
    "    result = []\n",
    "    for i, word_idx in enumerate(sample):\n",
    "        result.append([index_to_word.get(word_idx, \"NA\"), pred - hacked_preds[i]])\n",
    "    return seq_to_words(sample), result"
   ]
  },
  {
   "cell_type": "code",
   "execution_count": 132,
   "metadata": {
    "collapsed": false,
    "deletable": true,
    "editable": true,
    "scrolled": true
   },
   "outputs": [],
   "source": [
    "word_scores = compare(padded_sequences_test[:1000], predict(padded_sequences_test[:1000]))"
   ]
  },
  {
   "cell_type": "code",
   "execution_count": 136,
   "metadata": {
    "collapsed": false,
    "deletable": true,
    "editable": true
   },
   "outputs": [],
   "source": [
    "word_values = []\n",
    "for word_index, scores in word_scores.items():\n",
    "    s = sorted(scores)\n",
    "    Min = s[0]\n",
    "    Max = s[-1]\n",
    "    word_values.append({\n",
    "        'word': index_to_word.get(word_index, 'NAN'),\n",
    "        'min': Min[0],\n",
    "        'max': Max[0],\n",
    "        'mean': np.mean(s, axis=0)[0],\n",
    "        'value': sum([abs(si[0]) for si in s])/len(s),\n",
    "        'count': len(s),\n",
    "        'pos_count': len([s0 for s0 in s if s0[0] > 0]),\n",
    "        'neg_count': len([s0 for s0 in s if s0[0] < 0]),\n",
    "        'min_sample_id': Min[1],\n",
    "        'max_sample_id': Max[1],\n",
    "    })"
   ]
  },
  {
   "cell_type": "code",
   "execution_count": 137,
   "metadata": {
    "collapsed": false,
    "deletable": true,
    "editable": true
   },
   "outputs": [],
   "source": [
    "rez = pd.DataFrame(word_values)"
   ]
  },
  {
   "cell_type": "code",
   "execution_count": 138,
   "metadata": {
    "collapsed": false,
    "deletable": true,
    "editable": true
   },
   "outputs": [
    {
     "data": {
      "text/plain": [
       "(7651, 10)"
      ]
     },
     "execution_count": 138,
     "metadata": {},
     "output_type": "execute_result"
    }
   ],
   "source": [
    "rez.shape"
   ]
  },
  {
   "cell_type": "code",
   "execution_count": 144,
   "metadata": {
    "collapsed": false,
    "deletable": true,
    "editable": true,
    "scrolled": true
   },
   "outputs": [
    {
     "data": {
      "text/html": [
       "<div>\n",
       "<table border=\"1\" class=\"dataframe\">\n",
       "  <thead>\n",
       "    <tr style=\"text-align: right;\">\n",
       "      <th></th>\n",
       "      <th>count</th>\n",
       "      <th>max</th>\n",
       "      <th>max_sample_id</th>\n",
       "      <th>mean</th>\n",
       "      <th>min</th>\n",
       "      <th>min_sample_id</th>\n",
       "      <th>neg_count</th>\n",
       "      <th>pos_count</th>\n",
       "      <th>value</th>\n",
       "      <th>word</th>\n",
       "    </tr>\n",
       "  </thead>\n",
       "  <tbody>\n",
       "    <tr>\n",
       "      <th>82</th>\n",
       "      <td>129</td>\n",
       "      <td>0.526629</td>\n",
       "      <td>213</td>\n",
       "      <td>-0.055462</td>\n",
       "      <td>-0.8364</td>\n",
       "      <td>0</td>\n",
       "      <td>102</td>\n",
       "      <td>27</td>\n",
       "      <td>0.067578</td>\n",
       "      <td>bad</td>\n",
       "    </tr>\n",
       "  </tbody>\n",
       "</table>\n",
       "</div>"
      ],
      "text/plain": [
       "    count       max  max_sample_id      mean     min  min_sample_id  \\\n",
       "82  129    0.526629  213           -0.055462 -0.8364  0               \n",
       "\n",
       "    neg_count  pos_count     value word  \n",
       "82  102        27         0.067578  bad  "
      ]
     },
     "execution_count": 144,
     "metadata": {},
     "output_type": "execute_result"
    }
   ],
   "source": [
    "rez[rez['word'] == 'bad']"
   ]
  },
  {
   "cell_type": "code",
   "execution_count": 148,
   "metadata": {
    "collapsed": false,
    "deletable": true,
    "editable": true
   },
   "outputs": [
    {
     "name": "stderr",
     "output_type": "stream",
     "text": [
      "/dvl/udsclub/.env/lib/python3.5/site-packages/ipykernel/__main__.py:1: UserWarning: Boolean Series key will be reindexed to match DataFrame index.\n",
      "  if __name__ == '__main__':\n"
     ]
    },
    {
     "data": {
      "text/html": [
       "<div>\n",
       "<table border=\"1\" class=\"dataframe\">\n",
       "  <thead>\n",
       "    <tr style=\"text-align: right;\">\n",
       "      <th></th>\n",
       "      <th>count</th>\n",
       "      <th>max</th>\n",
       "      <th>max_sample_id</th>\n",
       "      <th>mean</th>\n",
       "      <th>min</th>\n",
       "      <th>min_sample_id</th>\n",
       "      <th>neg_count</th>\n",
       "      <th>pos_count</th>\n",
       "      <th>value</th>\n",
       "      <th>word</th>\n",
       "    </tr>\n",
       "  </thead>\n",
       "  <tbody>\n",
       "    <tr>\n",
       "      <th>3391</th>\n",
       "      <td>5</td>\n",
       "      <td>0.456302</td>\n",
       "      <td>213</td>\n",
       "      <td>0.177153</td>\n",
       "      <td>-0.003280</td>\n",
       "      <td>262</td>\n",
       "      <td>1</td>\n",
       "      <td>4</td>\n",
       "      <td>0.178465</td>\n",
       "      <td>cure</td>\n",
       "    </tr>\n",
       "    <tr>\n",
       "      <th>1448</th>\n",
       "      <td>5</td>\n",
       "      <td>0.502542</td>\n",
       "      <td>213</td>\n",
       "      <td>0.115155</td>\n",
       "      <td>-0.112754</td>\n",
       "      <td>383</td>\n",
       "      <td>1</td>\n",
       "      <td>4</td>\n",
       "      <td>0.160257</td>\n",
       "      <td>opportunity</td>\n",
       "    </tr>\n",
       "    <tr>\n",
       "      <th>510</th>\n",
       "      <td>38</td>\n",
       "      <td>0.321842</td>\n",
       "      <td>526</td>\n",
       "      <td>-0.080531</td>\n",
       "      <td>-0.724063</td>\n",
       "      <td>879</td>\n",
       "      <td>27</td>\n",
       "      <td>11</td>\n",
       "      <td>0.137892</td>\n",
       "      <td>4</td>\n",
       "    </tr>\n",
       "    <tr>\n",
       "      <th>808</th>\n",
       "      <td>22</td>\n",
       "      <td>0.884046</td>\n",
       "      <td>815</td>\n",
       "      <td>0.131202</td>\n",
       "      <td>-0.016953</td>\n",
       "      <td>692</td>\n",
       "      <td>2</td>\n",
       "      <td>20</td>\n",
       "      <td>0.132895</td>\n",
       "      <td>7</td>\n",
       "    </tr>\n",
       "    <tr>\n",
       "      <th>981</th>\n",
       "      <td>6</td>\n",
       "      <td>0.225996</td>\n",
       "      <td>789</td>\n",
       "      <td>-0.018612</td>\n",
       "      <td>-0.443536</td>\n",
       "      <td>576</td>\n",
       "      <td>2</td>\n",
       "      <td>4</td>\n",
       "      <td>0.129286</td>\n",
       "      <td>meet</td>\n",
       "    </tr>\n",
       "    <tr>\n",
       "      <th>744</th>\n",
       "      <td>15</td>\n",
       "      <td>0.588446</td>\n",
       "      <td>213</td>\n",
       "      <td>-0.039198</td>\n",
       "      <td>-0.490372</td>\n",
       "      <td>718</td>\n",
       "      <td>9</td>\n",
       "      <td>6</td>\n",
       "      <td>0.127286</td>\n",
       "      <td>disappointed</td>\n",
       "    </tr>\n",
       "    <tr>\n",
       "      <th>1562</th>\n",
       "      <td>6</td>\n",
       "      <td>0.511646</td>\n",
       "      <td>940</td>\n",
       "      <td>0.088551</td>\n",
       "      <td>-0.086811</td>\n",
       "      <td>623</td>\n",
       "      <td>2</td>\n",
       "      <td>4</td>\n",
       "      <td>0.117523</td>\n",
       "      <td>wonderfully</td>\n",
       "    </tr>\n",
       "    <tr>\n",
       "      <th>1801</th>\n",
       "      <td>4</td>\n",
       "      <td>0.356187</td>\n",
       "      <td>469</td>\n",
       "      <td>0.115665</td>\n",
       "      <td>0.000590</td>\n",
       "      <td>681</td>\n",
       "      <td>0</td>\n",
       "      <td>4</td>\n",
       "      <td>0.115665</td>\n",
       "      <td>reminds</td>\n",
       "    </tr>\n",
       "    <tr>\n",
       "      <th>2252</th>\n",
       "      <td>4</td>\n",
       "      <td>0.425031</td>\n",
       "      <td>15</td>\n",
       "      <td>0.113830</td>\n",
       "      <td>0.000140</td>\n",
       "      <td>368</td>\n",
       "      <td>0</td>\n",
       "      <td>4</td>\n",
       "      <td>0.113830</td>\n",
       "      <td>sensitive</td>\n",
       "    </tr>\n",
       "    <tr>\n",
       "      <th>2930</th>\n",
       "      <td>8</td>\n",
       "      <td>0.286658</td>\n",
       "      <td>965</td>\n",
       "      <td>0.112643</td>\n",
       "      <td>-0.002414</td>\n",
       "      <td>187</td>\n",
       "      <td>1</td>\n",
       "      <td>7</td>\n",
       "      <td>0.113247</td>\n",
       "      <td>daring</td>\n",
       "    </tr>\n",
       "    <tr>\n",
       "      <th>1502</th>\n",
       "      <td>6</td>\n",
       "      <td>0.333772</td>\n",
       "      <td>124</td>\n",
       "      <td>0.016452</td>\n",
       "      <td>-0.232754</td>\n",
       "      <td>161</td>\n",
       "      <td>2</td>\n",
       "      <td>4</td>\n",
       "      <td>0.110341</td>\n",
       "      <td>gem</td>\n",
       "    </tr>\n",
       "    <tr>\n",
       "      <th>651</th>\n",
       "      <td>15</td>\n",
       "      <td>0.283599</td>\n",
       "      <td>411</td>\n",
       "      <td>-0.017662</td>\n",
       "      <td>-0.421425</td>\n",
       "      <td>7</td>\n",
       "      <td>8</td>\n",
       "      <td>7</td>\n",
       "      <td>0.110106</td>\n",
       "      <td>scary</td>\n",
       "    </tr>\n",
       "    <tr>\n",
       "      <th>1540</th>\n",
       "      <td>5</td>\n",
       "      <td>0.196921</td>\n",
       "      <td>475</td>\n",
       "      <td>0.109937</td>\n",
       "      <td>0.005810</td>\n",
       "      <td>616</td>\n",
       "      <td>0</td>\n",
       "      <td>5</td>\n",
       "      <td>0.109937</td>\n",
       "      <td>dirty</td>\n",
       "    </tr>\n",
       "    <tr>\n",
       "      <th>881</th>\n",
       "      <td>15</td>\n",
       "      <td>0.685247</td>\n",
       "      <td>850</td>\n",
       "      <td>0.104556</td>\n",
       "      <td>-0.039170</td>\n",
       "      <td>331</td>\n",
       "      <td>2</td>\n",
       "      <td>13</td>\n",
       "      <td>0.109779</td>\n",
       "      <td>9</td>\n",
       "    </tr>\n",
       "    <tr>\n",
       "      <th>1516</th>\n",
       "      <td>6</td>\n",
       "      <td>0.161149</td>\n",
       "      <td>474</td>\n",
       "      <td>0.098292</td>\n",
       "      <td>-0.021642</td>\n",
       "      <td>305</td>\n",
       "      <td>1</td>\n",
       "      <td>5</td>\n",
       "      <td>0.105506</td>\n",
       "      <td>zombies</td>\n",
       "    </tr>\n",
       "    <tr>\n",
       "      <th>919</th>\n",
       "      <td>4</td>\n",
       "      <td>0.246030</td>\n",
       "      <td>247</td>\n",
       "      <td>0.103926</td>\n",
       "      <td>0.000128</td>\n",
       "      <td>358</td>\n",
       "      <td>0</td>\n",
       "      <td>4</td>\n",
       "      <td>0.103926</td>\n",
       "      <td>situation</td>\n",
       "    </tr>\n",
       "    <tr>\n",
       "      <th>1463</th>\n",
       "      <td>10</td>\n",
       "      <td>0.243506</td>\n",
       "      <td>579</td>\n",
       "      <td>0.018131</td>\n",
       "      <td>-0.292348</td>\n",
       "      <td>445</td>\n",
       "      <td>5</td>\n",
       "      <td>5</td>\n",
       "      <td>0.103889</td>\n",
       "      <td>available</td>\n",
       "    </tr>\n",
       "    <tr>\n",
       "      <th>1060</th>\n",
       "      <td>8</td>\n",
       "      <td>0.273963</td>\n",
       "      <td>15</td>\n",
       "      <td>0.067820</td>\n",
       "      <td>-0.047470</td>\n",
       "      <td>389</td>\n",
       "      <td>4</td>\n",
       "      <td>4</td>\n",
       "      <td>0.103008</td>\n",
       "      <td>we're</td>\n",
       "    </tr>\n",
       "    <tr>\n",
       "      <th>1525</th>\n",
       "      <td>5</td>\n",
       "      <td>0.309497</td>\n",
       "      <td>379</td>\n",
       "      <td>0.094604</td>\n",
       "      <td>-0.020178</td>\n",
       "      <td>436</td>\n",
       "      <td>1</td>\n",
       "      <td>4</td>\n",
       "      <td>0.102675</td>\n",
       "      <td>lived</td>\n",
       "    </tr>\n",
       "    <tr>\n",
       "      <th>1008</th>\n",
       "      <td>9</td>\n",
       "      <td>0.128315</td>\n",
       "      <td>644</td>\n",
       "      <td>-0.022103</td>\n",
       "      <td>-0.389526</td>\n",
       "      <td>7</td>\n",
       "      <td>5</td>\n",
       "      <td>4</td>\n",
       "      <td>0.101894</td>\n",
       "      <td>japanese</td>\n",
       "    </tr>\n",
       "    <tr>\n",
       "      <th>665</th>\n",
       "      <td>8</td>\n",
       "      <td>0.055736</td>\n",
       "      <td>251</td>\n",
       "      <td>-0.072914</td>\n",
       "      <td>-0.370964</td>\n",
       "      <td>400</td>\n",
       "      <td>4</td>\n",
       "      <td>4</td>\n",
       "      <td>0.101227</td>\n",
       "      <td>body</td>\n",
       "    </tr>\n",
       "    <tr>\n",
       "      <th>1000</th>\n",
       "      <td>13</td>\n",
       "      <td>0.503676</td>\n",
       "      <td>213</td>\n",
       "      <td>0.016160</td>\n",
       "      <td>-0.232278</td>\n",
       "      <td>293</td>\n",
       "      <td>8</td>\n",
       "      <td>5</td>\n",
       "      <td>0.099530</td>\n",
       "      <td>write</td>\n",
       "    </tr>\n",
       "    <tr>\n",
       "      <th>398</th>\n",
       "      <td>14</td>\n",
       "      <td>0.283090</td>\n",
       "      <td>965</td>\n",
       "      <td>0.010003</td>\n",
       "      <td>-0.515444</td>\n",
       "      <td>538</td>\n",
       "      <td>7</td>\n",
       "      <td>7</td>\n",
       "      <td>0.099062</td>\n",
       "      <td>despite</td>\n",
       "    </tr>\n",
       "    <tr>\n",
       "      <th>624</th>\n",
       "      <td>7</td>\n",
       "      <td>0.267981</td>\n",
       "      <td>379</td>\n",
       "      <td>-0.019200</td>\n",
       "      <td>-0.222115</td>\n",
       "      <td>138</td>\n",
       "      <td>3</td>\n",
       "      <td>4</td>\n",
       "      <td>0.098858</td>\n",
       "      <td>living</td>\n",
       "    </tr>\n",
       "    <tr>\n",
       "      <th>1341</th>\n",
       "      <td>6</td>\n",
       "      <td>0.088846</td>\n",
       "      <td>937</td>\n",
       "      <td>-0.059238</td>\n",
       "      <td>-0.372564</td>\n",
       "      <td>394</td>\n",
       "      <td>2</td>\n",
       "      <td>4</td>\n",
       "      <td>0.098763</td>\n",
       "      <td>showed</td>\n",
       "    </tr>\n",
       "    <tr>\n",
       "      <th>2480</th>\n",
       "      <td>6</td>\n",
       "      <td>0.161716</td>\n",
       "      <td>474</td>\n",
       "      <td>0.059352</td>\n",
       "      <td>-0.103260</td>\n",
       "      <td>776</td>\n",
       "      <td>2</td>\n",
       "      <td>4</td>\n",
       "      <td>0.096416</td>\n",
       "      <td>lesbian</td>\n",
       "    </tr>\n",
       "    <tr>\n",
       "      <th>6360</th>\n",
       "      <td>6</td>\n",
       "      <td>0.188888</td>\n",
       "      <td>375</td>\n",
       "      <td>0.068856</td>\n",
       "      <td>-0.076690</td>\n",
       "      <td>53</td>\n",
       "      <td>1</td>\n",
       "      <td>5</td>\n",
       "      <td>0.094420</td>\n",
       "      <td>moved</td>\n",
       "    </tr>\n",
       "    <tr>\n",
       "      <th>484</th>\n",
       "      <td>16</td>\n",
       "      <td>0.125573</td>\n",
       "      <td>398</td>\n",
       "      <td>-0.075872</td>\n",
       "      <td>-0.716417</td>\n",
       "      <td>138</td>\n",
       "      <td>10</td>\n",
       "      <td>6</td>\n",
       "      <td>0.093509</td>\n",
       "      <td>example</td>\n",
       "    </tr>\n",
       "    <tr>\n",
       "      <th>760</th>\n",
       "      <td>19</td>\n",
       "      <td>0.167575</td>\n",
       "      <td>852</td>\n",
       "      <td>-0.052966</td>\n",
       "      <td>-0.452888</td>\n",
       "      <td>576</td>\n",
       "      <td>10</td>\n",
       "      <td>9</td>\n",
       "      <td>0.092771</td>\n",
       "      <td>songs</td>\n",
       "    </tr>\n",
       "    <tr>\n",
       "      <th>655</th>\n",
       "      <td>13</td>\n",
       "      <td>0.653601</td>\n",
       "      <td>213</td>\n",
       "      <td>0.062637</td>\n",
       "      <td>-0.139055</td>\n",
       "      <td>538</td>\n",
       "      <td>7</td>\n",
       "      <td>6</td>\n",
       "      <td>0.092461</td>\n",
       "      <td>english</td>\n",
       "    </tr>\n",
       "    <tr>\n",
       "      <th>...</th>\n",
       "      <td>...</td>\n",
       "      <td>...</td>\n",
       "      <td>...</td>\n",
       "      <td>...</td>\n",
       "      <td>...</td>\n",
       "      <td>...</td>\n",
       "      <td>...</td>\n",
       "      <td>...</td>\n",
       "      <td>...</td>\n",
       "      <td>...</td>\n",
       "    </tr>\n",
       "    <tr>\n",
       "      <th>240</th>\n",
       "      <td>32</td>\n",
       "      <td>0.185651</td>\n",
       "      <td>164</td>\n",
       "      <td>-0.030779</td>\n",
       "      <td>-0.374016</td>\n",
       "      <td>445</td>\n",
       "      <td>21</td>\n",
       "      <td>11</td>\n",
       "      <td>0.051682</td>\n",
       "      <td>hard</td>\n",
       "    </tr>\n",
       "    <tr>\n",
       "      <th>435</th>\n",
       "      <td>37</td>\n",
       "      <td>0.328497</td>\n",
       "      <td>623</td>\n",
       "      <td>0.003839</td>\n",
       "      <td>-0.167609</td>\n",
       "      <td>718</td>\n",
       "      <td>15</td>\n",
       "      <td>22</td>\n",
       "      <td>0.051659</td>\n",
       "      <td>definitely</td>\n",
       "    </tr>\n",
       "    <tr>\n",
       "      <th>420</th>\n",
       "      <td>19</td>\n",
       "      <td>0.196664</td>\n",
       "      <td>247</td>\n",
       "      <td>-0.003102</td>\n",
       "      <td>-0.281486</td>\n",
       "      <td>485</td>\n",
       "      <td>11</td>\n",
       "      <td>8</td>\n",
       "      <td>0.051594</td>\n",
       "      <td>sort</td>\n",
       "    </tr>\n",
       "    <tr>\n",
       "      <th>856</th>\n",
       "      <td>7</td>\n",
       "      <td>0.210898</td>\n",
       "      <td>88</td>\n",
       "      <td>0.049108</td>\n",
       "      <td>-0.008672</td>\n",
       "      <td>187</td>\n",
       "      <td>2</td>\n",
       "      <td>5</td>\n",
       "      <td>0.051589</td>\n",
       "      <td>truth</td>\n",
       "    </tr>\n",
       "    <tr>\n",
       "      <th>155</th>\n",
       "      <td>46</td>\n",
       "      <td>0.314479</td>\n",
       "      <td>399</td>\n",
       "      <td>-0.006173</td>\n",
       "      <td>-0.204152</td>\n",
       "      <td>979</td>\n",
       "      <td>31</td>\n",
       "      <td>15</td>\n",
       "      <td>0.051535</td>\n",
       "      <td>old</td>\n",
       "    </tr>\n",
       "    <tr>\n",
       "      <th>139</th>\n",
       "      <td>57</td>\n",
       "      <td>0.490815</td>\n",
       "      <td>968</td>\n",
       "      <td>-0.004373</td>\n",
       "      <td>-0.345709</td>\n",
       "      <td>177</td>\n",
       "      <td>27</td>\n",
       "      <td>30</td>\n",
       "      <td>0.051523</td>\n",
       "      <td>funny</td>\n",
       "    </tr>\n",
       "    <tr>\n",
       "      <th>1164</th>\n",
       "      <td>9</td>\n",
       "      <td>0.184820</td>\n",
       "      <td>526</td>\n",
       "      <td>0.051377</td>\n",
       "      <td>-0.000347</td>\n",
       "      <td>460</td>\n",
       "      <td>2</td>\n",
       "      <td>7</td>\n",
       "      <td>0.051498</td>\n",
       "      <td>appreciate</td>\n",
       "    </tr>\n",
       "    <tr>\n",
       "      <th>695</th>\n",
       "      <td>11</td>\n",
       "      <td>0.081274</td>\n",
       "      <td>855</td>\n",
       "      <td>-0.026461</td>\n",
       "      <td>-0.345856</td>\n",
       "      <td>445</td>\n",
       "      <td>6</td>\n",
       "      <td>5</td>\n",
       "      <td>0.051363</td>\n",
       "      <td>usually</td>\n",
       "    </tr>\n",
       "    <tr>\n",
       "      <th>731</th>\n",
       "      <td>7</td>\n",
       "      <td>0.165030</td>\n",
       "      <td>764</td>\n",
       "      <td>0.026864</td>\n",
       "      <td>-0.062607</td>\n",
       "      <td>392</td>\n",
       "      <td>3</td>\n",
       "      <td>4</td>\n",
       "      <td>0.051335</td>\n",
       "      <td>basically</td>\n",
       "    </tr>\n",
       "    <tr>\n",
       "      <th>491</th>\n",
       "      <td>11</td>\n",
       "      <td>0.018354</td>\n",
       "      <td>399</td>\n",
       "      <td>-0.045616</td>\n",
       "      <td>-0.371357</td>\n",
       "      <td>445</td>\n",
       "      <td>7</td>\n",
       "      <td>4</td>\n",
       "      <td>0.051331</td>\n",
       "      <td>b</td>\n",
       "    </tr>\n",
       "    <tr>\n",
       "      <th>1752</th>\n",
       "      <td>10</td>\n",
       "      <td>0.419957</td>\n",
       "      <td>969</td>\n",
       "      <td>0.048769</td>\n",
       "      <td>-0.005671</td>\n",
       "      <td>335</td>\n",
       "      <td>5</td>\n",
       "      <td>5</td>\n",
       "      <td>0.051267</td>\n",
       "      <td>reminded</td>\n",
       "    </tr>\n",
       "    <tr>\n",
       "      <th>676</th>\n",
       "      <td>12</td>\n",
       "      <td>0.235110</td>\n",
       "      <td>15</td>\n",
       "      <td>0.027394</td>\n",
       "      <td>-0.072915</td>\n",
       "      <td>891</td>\n",
       "      <td>5</td>\n",
       "      <td>7</td>\n",
       "      <td>0.051087</td>\n",
       "      <td>taking</td>\n",
       "    </tr>\n",
       "    <tr>\n",
       "      <th>188</th>\n",
       "      <td>32</td>\n",
       "      <td>0.173878</td>\n",
       "      <td>350</td>\n",
       "      <td>-0.019353</td>\n",
       "      <td>-0.264894</td>\n",
       "      <td>400</td>\n",
       "      <td>18</td>\n",
       "      <td>14</td>\n",
       "      <td>0.051004</td>\n",
       "      <td>that's</td>\n",
       "    </tr>\n",
       "    <tr>\n",
       "      <th>571</th>\n",
       "      <td>14</td>\n",
       "      <td>0.018266</td>\n",
       "      <td>38</td>\n",
       "      <td>-0.047222</td>\n",
       "      <td>-0.444180</td>\n",
       "      <td>555</td>\n",
       "      <td>6</td>\n",
       "      <td>8</td>\n",
       "      <td>0.050975</td>\n",
       "      <td>extremely</td>\n",
       "    </tr>\n",
       "    <tr>\n",
       "      <th>351</th>\n",
       "      <td>19</td>\n",
       "      <td>0.176864</td>\n",
       "      <td>152</td>\n",
       "      <td>-0.030278</td>\n",
       "      <td>-0.264357</td>\n",
       "      <td>94</td>\n",
       "      <td>15</td>\n",
       "      <td>4</td>\n",
       "      <td>0.050902</td>\n",
       "      <td>completely</td>\n",
       "    </tr>\n",
       "    <tr>\n",
       "      <th>104</th>\n",
       "      <td>88</td>\n",
       "      <td>0.378109</td>\n",
       "      <td>763</td>\n",
       "      <td>-0.019433</td>\n",
       "      <td>-0.414559</td>\n",
       "      <td>7</td>\n",
       "      <td>48</td>\n",
       "      <td>40</td>\n",
       "      <td>0.050769</td>\n",
       "      <td>after</td>\n",
       "    </tr>\n",
       "    <tr>\n",
       "      <th>236</th>\n",
       "      <td>40</td>\n",
       "      <td>0.465825</td>\n",
       "      <td>213</td>\n",
       "      <td>-0.001782</td>\n",
       "      <td>-0.181122</td>\n",
       "      <td>403</td>\n",
       "      <td>26</td>\n",
       "      <td>14</td>\n",
       "      <td>0.050744</td>\n",
       "      <td>minutes</td>\n",
       "    </tr>\n",
       "    <tr>\n",
       "      <th>249</th>\n",
       "      <td>50</td>\n",
       "      <td>0.233801</td>\n",
       "      <td>789</td>\n",
       "      <td>-0.018800</td>\n",
       "      <td>-0.318990</td>\n",
       "      <td>161</td>\n",
       "      <td>33</td>\n",
       "      <td>17</td>\n",
       "      <td>0.050736</td>\n",
       "      <td>2</td>\n",
       "    </tr>\n",
       "    <tr>\n",
       "      <th>984</th>\n",
       "      <td>9</td>\n",
       "      <td>0.005022</td>\n",
       "      <td>731</td>\n",
       "      <td>-0.049419</td>\n",
       "      <td>-0.168464</td>\n",
       "      <td>538</td>\n",
       "      <td>5</td>\n",
       "      <td>4</td>\n",
       "      <td>0.050694</td>\n",
       "      <td>success</td>\n",
       "    </tr>\n",
       "    <tr>\n",
       "      <th>182</th>\n",
       "      <td>36</td>\n",
       "      <td>0.228646</td>\n",
       "      <td>72</td>\n",
       "      <td>0.000330</td>\n",
       "      <td>-0.396749</td>\n",
       "      <td>292</td>\n",
       "      <td>18</td>\n",
       "      <td>18</td>\n",
       "      <td>0.050599</td>\n",
       "      <td>may</td>\n",
       "    </tr>\n",
       "    <tr>\n",
       "      <th>434</th>\n",
       "      <td>9</td>\n",
       "      <td>0.387511</td>\n",
       "      <td>969</td>\n",
       "      <td>0.037649</td>\n",
       "      <td>-0.044752</td>\n",
       "      <td>678</td>\n",
       "      <td>5</td>\n",
       "      <td>4</td>\n",
       "      <td>0.050564</td>\n",
       "      <td>based</td>\n",
       "    </tr>\n",
       "    <tr>\n",
       "      <th>170</th>\n",
       "      <td>50</td>\n",
       "      <td>0.141084</td>\n",
       "      <td>474</td>\n",
       "      <td>-0.037833</td>\n",
       "      <td>-0.354629</td>\n",
       "      <td>914</td>\n",
       "      <td>36</td>\n",
       "      <td>14</td>\n",
       "      <td>0.050516</td>\n",
       "      <td>enough</td>\n",
       "    </tr>\n",
       "    <tr>\n",
       "      <th>265</th>\n",
       "      <td>33</td>\n",
       "      <td>0.264647</td>\n",
       "      <td>379</td>\n",
       "      <td>0.003306</td>\n",
       "      <td>-0.253500</td>\n",
       "      <td>400</td>\n",
       "      <td>18</td>\n",
       "      <td>15</td>\n",
       "      <td>0.050410</td>\n",
       "      <td>looking</td>\n",
       "    </tr>\n",
       "    <tr>\n",
       "      <th>404</th>\n",
       "      <td>12</td>\n",
       "      <td>0.002672</td>\n",
       "      <td>867</td>\n",
       "      <td>-0.049750</td>\n",
       "      <td>-0.359397</td>\n",
       "      <td>445</td>\n",
       "      <td>8</td>\n",
       "      <td>4</td>\n",
       "      <td>0.050409</td>\n",
       "      <td>tell</td>\n",
       "    </tr>\n",
       "    <tr>\n",
       "      <th>418</th>\n",
       "      <td>21</td>\n",
       "      <td>0.205874</td>\n",
       "      <td>848</td>\n",
       "      <td>0.026754</td>\n",
       "      <td>-0.158544</td>\n",
       "      <td>394</td>\n",
       "      <td>8</td>\n",
       "      <td>13</td>\n",
       "      <td>0.050392</td>\n",
       "      <td>remember</td>\n",
       "    </tr>\n",
       "    <tr>\n",
       "      <th>1212</th>\n",
       "      <td>4</td>\n",
       "      <td>0.103373</td>\n",
       "      <td>70</td>\n",
       "      <td>0.050359</td>\n",
       "      <td>0.000028</td>\n",
       "      <td>778</td>\n",
       "      <td>0</td>\n",
       "      <td>4</td>\n",
       "      <td>0.050359</td>\n",
       "      <td>delivers</td>\n",
       "    </tr>\n",
       "    <tr>\n",
       "      <th>1119</th>\n",
       "      <td>9</td>\n",
       "      <td>0.141622</td>\n",
       "      <td>88</td>\n",
       "      <td>-0.002232</td>\n",
       "      <td>-0.181573</td>\n",
       "      <td>170</td>\n",
       "      <td>4</td>\n",
       "      <td>5</td>\n",
       "      <td>0.050356</td>\n",
       "      <td>moves</td>\n",
       "    </tr>\n",
       "    <tr>\n",
       "      <th>235</th>\n",
       "      <td>30</td>\n",
       "      <td>0.296321</td>\n",
       "      <td>95</td>\n",
       "      <td>0.001416</td>\n",
       "      <td>-0.227766</td>\n",
       "      <td>914</td>\n",
       "      <td>22</td>\n",
       "      <td>8</td>\n",
       "      <td>0.050352</td>\n",
       "      <td>kind</td>\n",
       "    </tr>\n",
       "    <tr>\n",
       "      <th>303</th>\n",
       "      <td>41</td>\n",
       "      <td>0.265941</td>\n",
       "      <td>855</td>\n",
       "      <td>0.024777</td>\n",
       "      <td>-0.287164</td>\n",
       "      <td>445</td>\n",
       "      <td>12</td>\n",
       "      <td>29</td>\n",
       "      <td>0.050263</td>\n",
       "      <td>dvd</td>\n",
       "    </tr>\n",
       "    <tr>\n",
       "      <th>867</th>\n",
       "      <td>9</td>\n",
       "      <td>0.188605</td>\n",
       "      <td>152</td>\n",
       "      <td>0.042051</td>\n",
       "      <td>-0.015031</td>\n",
       "      <td>563</td>\n",
       "      <td>4</td>\n",
       "      <td>5</td>\n",
       "      <td>0.050129</td>\n",
       "      <td>forget</td>\n",
       "    </tr>\n",
       "  </tbody>\n",
       "</table>\n",
       "<p>231 rows × 10 columns</p>\n",
       "</div>"
      ],
      "text/plain": [
       "      count       max  max_sample_id      mean       min  min_sample_id  \\\n",
       "3391  5      0.456302  213            0.177153 -0.003280  262             \n",
       "1448  5      0.502542  213            0.115155 -0.112754  383             \n",
       "510   38     0.321842  526           -0.080531 -0.724063  879             \n",
       "808   22     0.884046  815            0.131202 -0.016953  692             \n",
       "981   6      0.225996  789           -0.018612 -0.443536  576             \n",
       "744   15     0.588446  213           -0.039198 -0.490372  718             \n",
       "1562  6      0.511646  940            0.088551 -0.086811  623             \n",
       "1801  4      0.356187  469            0.115665  0.000590  681             \n",
       "2252  4      0.425031  15             0.113830  0.000140  368             \n",
       "2930  8      0.286658  965            0.112643 -0.002414  187             \n",
       "1502  6      0.333772  124            0.016452 -0.232754  161             \n",
       "651   15     0.283599  411           -0.017662 -0.421425  7               \n",
       "1540  5      0.196921  475            0.109937  0.005810  616             \n",
       "881   15     0.685247  850            0.104556 -0.039170  331             \n",
       "1516  6      0.161149  474            0.098292 -0.021642  305             \n",
       "919   4      0.246030  247            0.103926  0.000128  358             \n",
       "1463  10     0.243506  579            0.018131 -0.292348  445             \n",
       "1060  8      0.273963  15             0.067820 -0.047470  389             \n",
       "1525  5      0.309497  379            0.094604 -0.020178  436             \n",
       "1008  9      0.128315  644           -0.022103 -0.389526  7               \n",
       "665   8      0.055736  251           -0.072914 -0.370964  400             \n",
       "1000  13     0.503676  213            0.016160 -0.232278  293             \n",
       "398   14     0.283090  965            0.010003 -0.515444  538             \n",
       "624   7      0.267981  379           -0.019200 -0.222115  138             \n",
       "1341  6      0.088846  937           -0.059238 -0.372564  394             \n",
       "2480  6      0.161716  474            0.059352 -0.103260  776             \n",
       "6360  6      0.188888  375            0.068856 -0.076690  53              \n",
       "484   16     0.125573  398           -0.075872 -0.716417  138             \n",
       "760   19     0.167575  852           -0.052966 -0.452888  576             \n",
       "655   13     0.653601  213            0.062637 -0.139055  538             \n",
       "...   ..          ...  ...                 ...       ...  ...             \n",
       "240   32     0.185651  164           -0.030779 -0.374016  445             \n",
       "435   37     0.328497  623            0.003839 -0.167609  718             \n",
       "420   19     0.196664  247           -0.003102 -0.281486  485             \n",
       "856   7      0.210898  88             0.049108 -0.008672  187             \n",
       "155   46     0.314479  399           -0.006173 -0.204152  979             \n",
       "139   57     0.490815  968           -0.004373 -0.345709  177             \n",
       "1164  9      0.184820  526            0.051377 -0.000347  460             \n",
       "695   11     0.081274  855           -0.026461 -0.345856  445             \n",
       "731   7      0.165030  764            0.026864 -0.062607  392             \n",
       "491   11     0.018354  399           -0.045616 -0.371357  445             \n",
       "1752  10     0.419957  969            0.048769 -0.005671  335             \n",
       "676   12     0.235110  15             0.027394 -0.072915  891             \n",
       "188   32     0.173878  350           -0.019353 -0.264894  400             \n",
       "571   14     0.018266  38            -0.047222 -0.444180  555             \n",
       "351   19     0.176864  152           -0.030278 -0.264357  94              \n",
       "104   88     0.378109  763           -0.019433 -0.414559  7               \n",
       "236   40     0.465825  213           -0.001782 -0.181122  403             \n",
       "249   50     0.233801  789           -0.018800 -0.318990  161             \n",
       "984   9      0.005022  731           -0.049419 -0.168464  538             \n",
       "182   36     0.228646  72             0.000330 -0.396749  292             \n",
       "434   9      0.387511  969            0.037649 -0.044752  678             \n",
       "170   50     0.141084  474           -0.037833 -0.354629  914             \n",
       "265   33     0.264647  379            0.003306 -0.253500  400             \n",
       "404   12     0.002672  867           -0.049750 -0.359397  445             \n",
       "418   21     0.205874  848            0.026754 -0.158544  394             \n",
       "1212  4      0.103373  70             0.050359  0.000028  778             \n",
       "1119  9      0.141622  88            -0.002232 -0.181573  170             \n",
       "235   30     0.296321  95             0.001416 -0.227766  914             \n",
       "303   41     0.265941  855            0.024777 -0.287164  445             \n",
       "867   9      0.188605  152            0.042051 -0.015031  563             \n",
       "\n",
       "      neg_count  pos_count     value          word  \n",
       "3391  1          4          0.178465  cure          \n",
       "1448  1          4          0.160257  opportunity   \n",
       "510   27         11         0.137892  4             \n",
       "808   2          20         0.132895  7             \n",
       "981   2          4          0.129286  meet          \n",
       "744   9          6          0.127286  disappointed  \n",
       "1562  2          4          0.117523  wonderfully   \n",
       "1801  0          4          0.115665  reminds       \n",
       "2252  0          4          0.113830  sensitive     \n",
       "2930  1          7          0.113247  daring        \n",
       "1502  2          4          0.110341  gem           \n",
       "651   8          7          0.110106  scary         \n",
       "1540  0          5          0.109937  dirty         \n",
       "881   2          13         0.109779  9             \n",
       "1516  1          5          0.105506  zombies       \n",
       "919   0          4          0.103926  situation     \n",
       "1463  5          5          0.103889  available     \n",
       "1060  4          4          0.103008  we're         \n",
       "1525  1          4          0.102675  lived         \n",
       "1008  5          4          0.101894  japanese      \n",
       "665   4          4          0.101227  body          \n",
       "1000  8          5          0.099530  write         \n",
       "398   7          7          0.099062  despite       \n",
       "624   3          4          0.098858  living        \n",
       "1341  2          4          0.098763  showed        \n",
       "2480  2          4          0.096416  lesbian       \n",
       "6360  1          5          0.094420  moved         \n",
       "484   10         6          0.093509  example       \n",
       "760   10         9          0.092771  songs         \n",
       "655   7          6          0.092461  english       \n",
       "...  ..         ..               ...      ...       \n",
       "240   21         11         0.051682  hard          \n",
       "435   15         22         0.051659  definitely    \n",
       "420   11         8          0.051594  sort          \n",
       "856   2          5          0.051589  truth         \n",
       "155   31         15         0.051535  old           \n",
       "139   27         30         0.051523  funny         \n",
       "1164  2          7          0.051498  appreciate    \n",
       "695   6          5          0.051363  usually       \n",
       "731   3          4          0.051335  basically     \n",
       "491   7          4          0.051331  b             \n",
       "1752  5          5          0.051267  reminded      \n",
       "676   5          7          0.051087  taking        \n",
       "188   18         14         0.051004  that's        \n",
       "571   6          8          0.050975  extremely     \n",
       "351   15         4          0.050902  completely    \n",
       "104   48         40         0.050769  after         \n",
       "236   26         14         0.050744  minutes       \n",
       "249   33         17         0.050736  2             \n",
       "984   5          4          0.050694  success       \n",
       "182   18         18         0.050599  may           \n",
       "434   5          4          0.050564  based         \n",
       "170   36         14         0.050516  enough        \n",
       "265   18         15         0.050410  looking       \n",
       "404   8          4          0.050409  tell          \n",
       "418   8          13         0.050392  remember      \n",
       "1212  0          4          0.050359  delivers      \n",
       "1119  4          5          0.050356  moves         \n",
       "235   22         8          0.050352  kind          \n",
       "303   12         29         0.050263  dvd           \n",
       "867   4          5          0.050129  forget        \n",
       "\n",
       "[231 rows x 10 columns]"
      ]
     },
     "execution_count": 148,
     "metadata": {},
     "output_type": "execute_result"
    }
   ],
   "source": [
    "rez[rez['value']>0.05][rez['pos_count'] > 3].sort_values(by=['value'], ascending=False)"
   ]
  },
  {
   "cell_type": "code",
   "execution_count": 155,
   "metadata": {
    "collapsed": false,
    "deletable": true,
    "editable": true
   },
   "outputs": [
    {
     "data": {
      "text/plain": [
       "(\"so so episodes of star trek the next generation that thinks it has something important to say you'll see every plot twist a mile off in this by the numbers romp however it's worth seeing for its portrayal of drag king prostitutes a brothel where young women pay old men to have sex with them how's that for role reversal and lesbian soap operas the ghost of valerie lives !\",\n",
       " [['so', -0.12658682],\n",
       "  ['so', -0.12658682],\n",
       "  ['episodes', 0.060997218],\n",
       "  ['of', -0.15322432],\n",
       "  ['star', -0.24555662],\n",
       "  ['trek', 0.081950992],\n",
       "  ['the', -0.14997968],\n",
       "  ['next', -0.15827957],\n",
       "  ['generation', -0.02629602],\n",
       "  ['that', -0.084673554],\n",
       "  ['thinks', -0.19380382],\n",
       "  ['it', -0.055898994],\n",
       "  ['has', -0.05431062],\n",
       "  ['something', -0.083150059],\n",
       "  ['important', -0.010306358],\n",
       "  ['to', -0.028164923],\n",
       "  ['say', -0.20885143],\n",
       "  [\"you'll\", -0.026362062],\n",
       "  ['see', -0.044323981],\n",
       "  ['every', -0.084624797],\n",
       "  ['plot', -0.12561074],\n",
       "  ['twist', 0.015751749],\n",
       "  ['a', -0.047543168],\n",
       "  ['mile', -0.17559072],\n",
       "  ['off', -0.16947314],\n",
       "  ['in', -0.092783123],\n",
       "  ['this', -0.1822001],\n",
       "  ['by', -0.20654109],\n",
       "  ['the', -0.13019028],\n",
       "  ['numbers', -0.14174673],\n",
       "  ['romp', -0.1364502],\n",
       "  ['however', -0.18221763],\n",
       "  [\"it's\", -0.061448067],\n",
       "  ['worth', -0.026122004],\n",
       "  ['seeing', -0.034569889],\n",
       "  ['for', -0.10737899],\n",
       "  ['its', -0.035186201],\n",
       "  ['portrayal', -0.10930732],\n",
       "  ['of', -0.032798409],\n",
       "  ['drag', -0.062684625],\n",
       "  ['king', -0.086681217],\n",
       "  ['prostitutes', -0.13251302],\n",
       "  ['a', -0.10095337],\n",
       "  ['brothel', -0.13578084],\n",
       "  ['where', -0.095864326],\n",
       "  ['young', -0.13649109],\n",
       "  ['women', -0.12353167],\n",
       "  ['pay', -0.13439038],\n",
       "  ['old', -0.11286619],\n",
       "  ['men', -0.11335328],\n",
       "  ['to', -0.10157129],\n",
       "  ['have', -0.11974576],\n",
       "  ['sex', -0.14024684],\n",
       "  ['with', -0.078646868],\n",
       "  ['them', -0.10744432],\n",
       "  [\"how's\", -0.10344496],\n",
       "  ['that', -0.11573461],\n",
       "  ['for', -0.065670639],\n",
       "  ['role', -0.10984871],\n",
       "  ['reversal', -0.10851058],\n",
       "  ['and', -0.091325432],\n",
       "  ['lesbian', -0.10326031],\n",
       "  ['soap', -0.14760897],\n",
       "  ['operas', -0.03539753],\n",
       "  ['the', -0.071846873],\n",
       "  ['ghost', -0.13969013],\n",
       "  ['of', -0.073632568],\n",
       "  ['valerie', -0.073632568],\n",
       "  ['lives', -0.043395996],\n",
       "  ['!', -0.14488426]])"
      ]
     },
     "execution_count": 155,
     "metadata": {},
     "output_type": "execute_result"
    }
   ],
   "source": [
    "inspect_sample(776)"
   ]
  }
 ],
 "metadata": {
  "anaconda-cloud": {},
  "kernelspec": {
   "display_name": "Python 3",
   "language": "python",
   "name": "python3"
  },
  "language_info": {
   "codemirror_mode": {
    "name": "ipython",
    "version": 3
   },
   "file_extension": ".py",
   "mimetype": "text/x-python",
   "name": "python",
   "nbconvert_exporter": "python",
   "pygments_lexer": "ipython3",
   "version": "3.5.2"
  }
 },
 "nbformat": 4,
 "nbformat_minor": 1
}
